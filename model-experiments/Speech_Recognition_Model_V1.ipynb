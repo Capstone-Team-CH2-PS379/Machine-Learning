{
  "nbformat": 4,
  "nbformat_minor": 0,
  "metadata": {
    "colab": {
      "provenance": [],
      "gpuType": "T4",
      "collapsed_sections": [
        "QM1ZVXz3nqz1"
      ],
      "authorship_tag": "ABX9TyOFRmgDDbDCQL9+IrQqvg6G",
      "include_colab_link": true
    },
    "kernelspec": {
      "name": "python3",
      "display_name": "Python 3"
    },
    "language_info": {
      "name": "python"
    },
    "accelerator": "GPU"
  },
  "cells": [
    {
      "cell_type": "markdown",
      "metadata": {
        "id": "view-in-github",
        "colab_type": "text"
      },
      "source": [
        "<a href=\"https://colab.research.google.com/github/Capstone-Team-CH2-PS379/Machine-Learning/blob/main/model-experiments/Speech_Recognition_Model_V1.ipynb\" target=\"_parent\"><img src=\"https://colab.research.google.com/assets/colab-badge.svg\" alt=\"Open In Colab\"/></a>"
      ]
    },
    {
      "cell_type": "markdown",
      "source": [
        "#Load Data"
      ],
      "metadata": {
        "id": "GDpkZDPFDFHW"
      }
    },
    {
      "cell_type": "code",
      "execution_count": 14,
      "metadata": {
        "colab": {
          "base_uri": "https://localhost:8080/"
        },
        "id": "Zbmp7FzZChg3",
        "outputId": "c656066c-8f22-45c3-b532-9e9acf3bbfbe"
      },
      "outputs": [
        {
          "output_type": "stream",
          "name": "stdout",
          "text": [
            "Requirement already satisfied: kaggle in /usr/local/lib/python3.10/dist-packages (1.5.16)\n",
            "Requirement already satisfied: six>=1.10 in /usr/local/lib/python3.10/dist-packages (from kaggle) (1.16.0)\n",
            "Requirement already satisfied: certifi in /usr/local/lib/python3.10/dist-packages (from kaggle) (2023.11.17)\n",
            "Requirement already satisfied: python-dateutil in /usr/local/lib/python3.10/dist-packages (from kaggle) (2.8.2)\n",
            "Requirement already satisfied: requests in /usr/local/lib/python3.10/dist-packages (from kaggle) (2.31.0)\n",
            "Requirement already satisfied: tqdm in /usr/local/lib/python3.10/dist-packages (from kaggle) (4.66.1)\n",
            "Requirement already satisfied: python-slugify in /usr/local/lib/python3.10/dist-packages (from kaggle) (8.0.1)\n",
            "Requirement already satisfied: urllib3 in /usr/local/lib/python3.10/dist-packages (from kaggle) (2.0.7)\n",
            "Requirement already satisfied: bleach in /usr/local/lib/python3.10/dist-packages (from kaggle) (6.1.0)\n",
            "Requirement already satisfied: webencodings in /usr/local/lib/python3.10/dist-packages (from bleach->kaggle) (0.5.1)\n",
            "Requirement already satisfied: text-unidecode>=1.3 in /usr/local/lib/python3.10/dist-packages (from python-slugify->kaggle) (1.3)\n",
            "Requirement already satisfied: charset-normalizer<4,>=2 in /usr/local/lib/python3.10/dist-packages (from requests->kaggle) (3.3.2)\n",
            "Requirement already satisfied: idna<4,>=2.5 in /usr/local/lib/python3.10/dist-packages (from requests->kaggle) (3.6)\n"
          ]
        }
      ],
      "source": [
        "!pip install kaggle"
      ]
    },
    {
      "cell_type": "code",
      "source": [
        "# Library\n",
        "import os\n",
        "import pathlib\n",
        "import pandas as pd\n",
        "\n",
        "import matplotlib.pyplot as plt\n",
        "import numpy as np\n",
        "import seaborn as sns\n",
        "import tensorflow as tf\n",
        "\n",
        "from tensorflow.keras import layers\n",
        "from tensorflow.keras import models\n",
        "from IPython import display"
      ],
      "metadata": {
        "id": "chDQl9_MUajS"
      },
      "execution_count": null,
      "outputs": []
    },
    {
      "cell_type": "code",
      "source": [
        "# Set Kaggle API Key as environment variable\n",
        "os.environ['KAGGLE_USERNAME'] = ",
        "os.environ['KAGGLE_KEY'] = "
      ],
      "metadata": {
        "id": "ncSB4Jf2llfJ"
      },
      "execution_count": null,
      "outputs": []
    },
    {
      "cell_type": "code",
      "source": [
        "# Download dataset\n",
        "!kaggle datasets download -d mozillaorg/common-voice"
      ],
      "metadata": {
        "colab": {
          "base_uri": "https://localhost:8080/"
        },
        "id": "knhm6QmxC0wg",
        "outputId": "b3bfc8e4-cd0e-40a3-beee-d3ab7ba69929"
      },
      "execution_count": null,
      "outputs": [
        {
          "output_type": "stream",
          "name": "stdout",
          "text": [
            "Downloading common-voice.zip to /content\n",
            "100% 12.0G/12.0G [10:45<00:00, 23.0MB/s]\n",
            "100% 12.0G/12.0G [10:45<00:00, 20.0MB/s]\n"
          ]
        }
      ]
    },
    {
      "cell_type": "code",
      "source": [
        "# Extract zipfile to folder\n",
        "import zipfile\n",
        "\n",
        "with zipfile.ZipFile('common-voice.zip', 'r') as zip_ref:\n",
        "    zip_ref.extractall('common-voice')"
      ],
      "metadata": {
        "id": "c-QAViUGC4h6"
      },
      "execution_count": null,
      "outputs": []
    },
    {
      "cell_type": "code",
      "source": [
        "print(os.listdir('/content/common-voice'))"
      ],
      "metadata": {
        "colab": {
          "base_uri": "https://localhost:8080/"
        },
        "id": "5BqTcm-pVvba",
        "outputId": "83d0867a-1c96-4276-fb7f-cb3b664c40fb"
      },
      "execution_count": null,
      "outputs": [
        {
          "output_type": "stream",
          "name": "stdout",
          "text": [
            "['cv-valid-train', 'cv-other-test.csv', 'cv-invalid', 'cv-other-train', 'cv-other-dev', 'cv-other-test', 'cv-valid-dev', 'cv-valid-test', 'cv-invalid.csv', 'cv-other-train.csv', 'cv-other-dev.csv', 'cv-valid-train.csv', 'LICENSE.txt', 'cv-valid-dev.csv', 'cv-valid-test.csv', 'README.txt']\n"
          ]
        }
      ]
    },
    {
      "cell_type": "code",
      "source": [
        "# Read the CSV file\n",
        "file_path_train = '/content/common-voice/cv-valid-train.csv'\n",
        "data_train = pd.read_csv(file_path_train)\n",
        "data_train.info()"
      ],
      "metadata": {
        "colab": {
          "base_uri": "https://localhost:8080/"
        },
        "id": "R0BYjuNJDD12",
        "outputId": "b2a177b7-4d19-4b98-ec53-5b9be62b583e"
      },
      "execution_count": 15,
      "outputs": [
        {
          "output_type": "stream",
          "name": "stdout",
          "text": [
            "<class 'pandas.core.frame.DataFrame'>\n",
            "RangeIndex: 195776 entries, 0 to 195775\n",
            "Data columns (total 8 columns):\n",
            " #   Column      Non-Null Count   Dtype  \n",
            "---  ------      --------------   -----  \n",
            " 0   filename    195776 non-null  object \n",
            " 1   text        195776 non-null  object \n",
            " 2   up_votes    195776 non-null  int64  \n",
            " 3   down_votes  195776 non-null  int64  \n",
            " 4   age         73768 non-null   object \n",
            " 5   gender      74059 non-null   object \n",
            " 6   accent      64711 non-null   object \n",
            " 7   duration    0 non-null       float64\n",
            "dtypes: float64(1), int64(2), object(5)\n",
            "memory usage: 11.9+ MB\n"
          ]
        }
      ]
    },
    {
      "cell_type": "code",
      "source": [
        "# Set the option to display maximum column width\n",
        "pd.set_option('display.max_colwidth', None)\n",
        "data_train.head()"
      ],
      "metadata": {
        "colab": {
          "base_uri": "https://localhost:8080/",
          "height": 293
        },
        "id": "F09MaafHIsHU",
        "outputId": "299d6c96-25aa-46b5-afb2-d677485703dd"
      },
      "execution_count": 16,
      "outputs": [
        {
          "output_type": "execute_result",
          "data": {
            "text/plain": [
              "                           filename  \\\n",
              "0  cv-valid-train/sample-000000.mp3   \n",
              "1  cv-valid-train/sample-000001.mp3   \n",
              "2  cv-valid-train/sample-000002.mp3   \n",
              "3  cv-valid-train/sample-000003.mp3   \n",
              "4  cv-valid-train/sample-000004.mp3   \n",
              "\n",
              "                                                                                  text  \\\n",
              "0                       learn to recognize omens and follow them the old king had said   \n",
              "1                                           everything in the universe evolved he said   \n",
              "2                you came so that you could learn about your dreams said the old woman   \n",
              "3              so now i fear nothing because it was those omens that brought you to me   \n",
              "4  if you start your emails with greetings let me be the first to welcome you to earth   \n",
              "\n",
              "   up_votes  down_votes  age gender accent  duration  \n",
              "0         1           0  NaN    NaN    NaN       NaN  \n",
              "1         1           0  NaN    NaN    NaN       NaN  \n",
              "2         1           0  NaN    NaN    NaN       NaN  \n",
              "3         1           0  NaN    NaN    NaN       NaN  \n",
              "4         3           2  NaN    NaN    NaN       NaN  "
            ],
            "text/html": [
              "\n",
              "  <div id=\"df-a886089d-ae27-4301-9f8e-c58b21e69bbc\" class=\"colab-df-container\">\n",
              "    <div>\n",
              "<style scoped>\n",
              "    .dataframe tbody tr th:only-of-type {\n",
              "        vertical-align: middle;\n",
              "    }\n",
              "\n",
              "    .dataframe tbody tr th {\n",
              "        vertical-align: top;\n",
              "    }\n",
              "\n",
              "    .dataframe thead th {\n",
              "        text-align: right;\n",
              "    }\n",
              "</style>\n",
              "<table border=\"1\" class=\"dataframe\">\n",
              "  <thead>\n",
              "    <tr style=\"text-align: right;\">\n",
              "      <th></th>\n",
              "      <th>filename</th>\n",
              "      <th>text</th>\n",
              "      <th>up_votes</th>\n",
              "      <th>down_votes</th>\n",
              "      <th>age</th>\n",
              "      <th>gender</th>\n",
              "      <th>accent</th>\n",
              "      <th>duration</th>\n",
              "    </tr>\n",
              "  </thead>\n",
              "  <tbody>\n",
              "    <tr>\n",
              "      <th>0</th>\n",
              "      <td>cv-valid-train/sample-000000.mp3</td>\n",
              "      <td>learn to recognize omens and follow them the old king had said</td>\n",
              "      <td>1</td>\n",
              "      <td>0</td>\n",
              "      <td>NaN</td>\n",
              "      <td>NaN</td>\n",
              "      <td>NaN</td>\n",
              "      <td>NaN</td>\n",
              "    </tr>\n",
              "    <tr>\n",
              "      <th>1</th>\n",
              "      <td>cv-valid-train/sample-000001.mp3</td>\n",
              "      <td>everything in the universe evolved he said</td>\n",
              "      <td>1</td>\n",
              "      <td>0</td>\n",
              "      <td>NaN</td>\n",
              "      <td>NaN</td>\n",
              "      <td>NaN</td>\n",
              "      <td>NaN</td>\n",
              "    </tr>\n",
              "    <tr>\n",
              "      <th>2</th>\n",
              "      <td>cv-valid-train/sample-000002.mp3</td>\n",
              "      <td>you came so that you could learn about your dreams said the old woman</td>\n",
              "      <td>1</td>\n",
              "      <td>0</td>\n",
              "      <td>NaN</td>\n",
              "      <td>NaN</td>\n",
              "      <td>NaN</td>\n",
              "      <td>NaN</td>\n",
              "    </tr>\n",
              "    <tr>\n",
              "      <th>3</th>\n",
              "      <td>cv-valid-train/sample-000003.mp3</td>\n",
              "      <td>so now i fear nothing because it was those omens that brought you to me</td>\n",
              "      <td>1</td>\n",
              "      <td>0</td>\n",
              "      <td>NaN</td>\n",
              "      <td>NaN</td>\n",
              "      <td>NaN</td>\n",
              "      <td>NaN</td>\n",
              "    </tr>\n",
              "    <tr>\n",
              "      <th>4</th>\n",
              "      <td>cv-valid-train/sample-000004.mp3</td>\n",
              "      <td>if you start your emails with greetings let me be the first to welcome you to earth</td>\n",
              "      <td>3</td>\n",
              "      <td>2</td>\n",
              "      <td>NaN</td>\n",
              "      <td>NaN</td>\n",
              "      <td>NaN</td>\n",
              "      <td>NaN</td>\n",
              "    </tr>\n",
              "  </tbody>\n",
              "</table>\n",
              "</div>\n",
              "    <div class=\"colab-df-buttons\">\n",
              "\n",
              "  <div class=\"colab-df-container\">\n",
              "    <button class=\"colab-df-convert\" onclick=\"convertToInteractive('df-a886089d-ae27-4301-9f8e-c58b21e69bbc')\"\n",
              "            title=\"Convert this dataframe to an interactive table.\"\n",
              "            style=\"display:none;\">\n",
              "\n",
              "  <svg xmlns=\"http://www.w3.org/2000/svg\" height=\"24px\" viewBox=\"0 -960 960 960\">\n",
              "    <path d=\"M120-120v-720h720v720H120Zm60-500h600v-160H180v160Zm220 220h160v-160H400v160Zm0 220h160v-160H400v160ZM180-400h160v-160H180v160Zm440 0h160v-160H620v160ZM180-180h160v-160H180v160Zm440 0h160v-160H620v160Z\"/>\n",
              "  </svg>\n",
              "    </button>\n",
              "\n",
              "  <style>\n",
              "    .colab-df-container {\n",
              "      display:flex;\n",
              "      gap: 12px;\n",
              "    }\n",
              "\n",
              "    .colab-df-convert {\n",
              "      background-color: #E8F0FE;\n",
              "      border: none;\n",
              "      border-radius: 50%;\n",
              "      cursor: pointer;\n",
              "      display: none;\n",
              "      fill: #1967D2;\n",
              "      height: 32px;\n",
              "      padding: 0 0 0 0;\n",
              "      width: 32px;\n",
              "    }\n",
              "\n",
              "    .colab-df-convert:hover {\n",
              "      background-color: #E2EBFA;\n",
              "      box-shadow: 0px 1px 2px rgba(60, 64, 67, 0.3), 0px 1px 3px 1px rgba(60, 64, 67, 0.15);\n",
              "      fill: #174EA6;\n",
              "    }\n",
              "\n",
              "    .colab-df-buttons div {\n",
              "      margin-bottom: 4px;\n",
              "    }\n",
              "\n",
              "    [theme=dark] .colab-df-convert {\n",
              "      background-color: #3B4455;\n",
              "      fill: #D2E3FC;\n",
              "    }\n",
              "\n",
              "    [theme=dark] .colab-df-convert:hover {\n",
              "      background-color: #434B5C;\n",
              "      box-shadow: 0px 1px 3px 1px rgba(0, 0, 0, 0.15);\n",
              "      filter: drop-shadow(0px 1px 2px rgba(0, 0, 0, 0.3));\n",
              "      fill: #FFFFFF;\n",
              "    }\n",
              "  </style>\n",
              "\n",
              "    <script>\n",
              "      const buttonEl =\n",
              "        document.querySelector('#df-a886089d-ae27-4301-9f8e-c58b21e69bbc button.colab-df-convert');\n",
              "      buttonEl.style.display =\n",
              "        google.colab.kernel.accessAllowed ? 'block' : 'none';\n",
              "\n",
              "      async function convertToInteractive(key) {\n",
              "        const element = document.querySelector('#df-a886089d-ae27-4301-9f8e-c58b21e69bbc');\n",
              "        const dataTable =\n",
              "          await google.colab.kernel.invokeFunction('convertToInteractive',\n",
              "                                                    [key], {});\n",
              "        if (!dataTable) return;\n",
              "\n",
              "        const docLinkHtml = 'Like what you see? Visit the ' +\n",
              "          '<a target=\"_blank\" href=https://colab.research.google.com/notebooks/data_table.ipynb>data table notebook</a>'\n",
              "          + ' to learn more about interactive tables.';\n",
              "        element.innerHTML = '';\n",
              "        dataTable['output_type'] = 'display_data';\n",
              "        await google.colab.output.renderOutput(dataTable, element);\n",
              "        const docLink = document.createElement('div');\n",
              "        docLink.innerHTML = docLinkHtml;\n",
              "        element.appendChild(docLink);\n",
              "      }\n",
              "    </script>\n",
              "  </div>\n",
              "\n",
              "\n",
              "<div id=\"df-07e2b00e-e16c-48e0-8b20-beefda18829c\">\n",
              "  <button class=\"colab-df-quickchart\" onclick=\"quickchart('df-07e2b00e-e16c-48e0-8b20-beefda18829c')\"\n",
              "            title=\"Suggest charts\"\n",
              "            style=\"display:none;\">\n",
              "\n",
              "<svg xmlns=\"http://www.w3.org/2000/svg\" height=\"24px\"viewBox=\"0 0 24 24\"\n",
              "     width=\"24px\">\n",
              "    <g>\n",
              "        <path d=\"M19 3H5c-1.1 0-2 .9-2 2v14c0 1.1.9 2 2 2h14c1.1 0 2-.9 2-2V5c0-1.1-.9-2-2-2zM9 17H7v-7h2v7zm4 0h-2V7h2v10zm4 0h-2v-4h2v4z\"/>\n",
              "    </g>\n",
              "</svg>\n",
              "  </button>\n",
              "\n",
              "<style>\n",
              "  .colab-df-quickchart {\n",
              "      --bg-color: #E8F0FE;\n",
              "      --fill-color: #1967D2;\n",
              "      --hover-bg-color: #E2EBFA;\n",
              "      --hover-fill-color: #174EA6;\n",
              "      --disabled-fill-color: #AAA;\n",
              "      --disabled-bg-color: #DDD;\n",
              "  }\n",
              "\n",
              "  [theme=dark] .colab-df-quickchart {\n",
              "      --bg-color: #3B4455;\n",
              "      --fill-color: #D2E3FC;\n",
              "      --hover-bg-color: #434B5C;\n",
              "      --hover-fill-color: #FFFFFF;\n",
              "      --disabled-bg-color: #3B4455;\n",
              "      --disabled-fill-color: #666;\n",
              "  }\n",
              "\n",
              "  .colab-df-quickchart {\n",
              "    background-color: var(--bg-color);\n",
              "    border: none;\n",
              "    border-radius: 50%;\n",
              "    cursor: pointer;\n",
              "    display: none;\n",
              "    fill: var(--fill-color);\n",
              "    height: 32px;\n",
              "    padding: 0;\n",
              "    width: 32px;\n",
              "  }\n",
              "\n",
              "  .colab-df-quickchart:hover {\n",
              "    background-color: var(--hover-bg-color);\n",
              "    box-shadow: 0 1px 2px rgba(60, 64, 67, 0.3), 0 1px 3px 1px rgba(60, 64, 67, 0.15);\n",
              "    fill: var(--button-hover-fill-color);\n",
              "  }\n",
              "\n",
              "  .colab-df-quickchart-complete:disabled,\n",
              "  .colab-df-quickchart-complete:disabled:hover {\n",
              "    background-color: var(--disabled-bg-color);\n",
              "    fill: var(--disabled-fill-color);\n",
              "    box-shadow: none;\n",
              "  }\n",
              "\n",
              "  .colab-df-spinner {\n",
              "    border: 2px solid var(--fill-color);\n",
              "    border-color: transparent;\n",
              "    border-bottom-color: var(--fill-color);\n",
              "    animation:\n",
              "      spin 1s steps(1) infinite;\n",
              "  }\n",
              "\n",
              "  @keyframes spin {\n",
              "    0% {\n",
              "      border-color: transparent;\n",
              "      border-bottom-color: var(--fill-color);\n",
              "      border-left-color: var(--fill-color);\n",
              "    }\n",
              "    20% {\n",
              "      border-color: transparent;\n",
              "      border-left-color: var(--fill-color);\n",
              "      border-top-color: var(--fill-color);\n",
              "    }\n",
              "    30% {\n",
              "      border-color: transparent;\n",
              "      border-left-color: var(--fill-color);\n",
              "      border-top-color: var(--fill-color);\n",
              "      border-right-color: var(--fill-color);\n",
              "    }\n",
              "    40% {\n",
              "      border-color: transparent;\n",
              "      border-right-color: var(--fill-color);\n",
              "      border-top-color: var(--fill-color);\n",
              "    }\n",
              "    60% {\n",
              "      border-color: transparent;\n",
              "      border-right-color: var(--fill-color);\n",
              "    }\n",
              "    80% {\n",
              "      border-color: transparent;\n",
              "      border-right-color: var(--fill-color);\n",
              "      border-bottom-color: var(--fill-color);\n",
              "    }\n",
              "    90% {\n",
              "      border-color: transparent;\n",
              "      border-bottom-color: var(--fill-color);\n",
              "    }\n",
              "  }\n",
              "</style>\n",
              "\n",
              "  <script>\n",
              "    async function quickchart(key) {\n",
              "      const quickchartButtonEl =\n",
              "        document.querySelector('#' + key + ' button');\n",
              "      quickchartButtonEl.disabled = true;  // To prevent multiple clicks.\n",
              "      quickchartButtonEl.classList.add('colab-df-spinner');\n",
              "      try {\n",
              "        const charts = await google.colab.kernel.invokeFunction(\n",
              "            'suggestCharts', [key], {});\n",
              "      } catch (error) {\n",
              "        console.error('Error during call to suggestCharts:', error);\n",
              "      }\n",
              "      quickchartButtonEl.classList.remove('colab-df-spinner');\n",
              "      quickchartButtonEl.classList.add('colab-df-quickchart-complete');\n",
              "    }\n",
              "    (() => {\n",
              "      let quickchartButtonEl =\n",
              "        document.querySelector('#df-07e2b00e-e16c-48e0-8b20-beefda18829c button');\n",
              "      quickchartButtonEl.style.display =\n",
              "        google.colab.kernel.accessAllowed ? 'block' : 'none';\n",
              "    })();\n",
              "  </script>\n",
              "</div>\n",
              "    </div>\n",
              "  </div>\n"
            ]
          },
          "metadata": {},
          "execution_count": 16
        }
      ]
    },
    {
      "cell_type": "code",
      "source": [
        "file_path_val = '/content/common-voice/cv-valid-dev.csv'\n",
        "data_val = pd.read_csv(file_path_val)\n",
        "data_val.info()"
      ],
      "metadata": {
        "colab": {
          "base_uri": "https://localhost:8080/"
        },
        "id": "CTVbxcsre7jI",
        "outputId": "2d3eb076-a5ec-4237-ed81-33e3584ad4ac"
      },
      "execution_count": 17,
      "outputs": [
        {
          "output_type": "stream",
          "name": "stdout",
          "text": [
            "<class 'pandas.core.frame.DataFrame'>\n",
            "RangeIndex: 4076 entries, 0 to 4075\n",
            "Data columns (total 8 columns):\n",
            " #   Column      Non-Null Count  Dtype  \n",
            "---  ------      --------------  -----  \n",
            " 0   filename    4076 non-null   object \n",
            " 1   text        4076 non-null   object \n",
            " 2   up_votes    4076 non-null   int64  \n",
            " 3   down_votes  4076 non-null   int64  \n",
            " 4   age         1528 non-null   object \n",
            " 5   gender      1540 non-null   object \n",
            " 6   accent      1350 non-null   object \n",
            " 7   duration    0 non-null      float64\n",
            "dtypes: float64(1), int64(2), object(5)\n",
            "memory usage: 254.9+ KB\n"
          ]
        }
      ]
    },
    {
      "cell_type": "code",
      "source": [
        "data_val.head()"
      ],
      "metadata": {
        "colab": {
          "base_uri": "https://localhost:8080/",
          "height": 293
        },
        "id": "4huhFIs5g8Hh",
        "outputId": "508c70da-bfbb-418f-e844-e8aa203119a0"
      },
      "execution_count": 18,
      "outputs": [
        {
          "output_type": "execute_result",
          "data": {
            "text/plain": [
              "                         filename  \\\n",
              "0  cv-valid-dev/sample-000000.mp3   \n",
              "1  cv-valid-dev/sample-000001.mp3   \n",
              "2  cv-valid-dev/sample-000002.mp3   \n",
              "3  cv-valid-dev/sample-000003.mp3   \n",
              "4  cv-valid-dev/sample-000004.mp3   \n",
              "\n",
              "                                                                            text  \\\n",
              "0                        be careful with your prognostications said the stranger   \n",
              "1                            then why should they be surprised when they see one   \n",
              "2  a young arab also loaded down with baggage entered and greeted the englishman   \n",
              "3                           i thought that everything i owned would be destroyed   \n",
              "4                           he moved about invisible but everyone could hear him   \n",
              "\n",
              "   up_votes  down_votes       age  gender   accent  duration  \n",
              "0         1           0       NaN     NaN      NaN       NaN  \n",
              "1         2           0       NaN     NaN      NaN       NaN  \n",
              "2         2           0       NaN     NaN      NaN       NaN  \n",
              "3         3           0       NaN     NaN      NaN       NaN  \n",
              "4         1           0  fourties  female  england       NaN  "
            ],
            "text/html": [
              "\n",
              "  <div id=\"df-7d5932dd-38fa-4f03-9109-8fad62162910\" class=\"colab-df-container\">\n",
              "    <div>\n",
              "<style scoped>\n",
              "    .dataframe tbody tr th:only-of-type {\n",
              "        vertical-align: middle;\n",
              "    }\n",
              "\n",
              "    .dataframe tbody tr th {\n",
              "        vertical-align: top;\n",
              "    }\n",
              "\n",
              "    .dataframe thead th {\n",
              "        text-align: right;\n",
              "    }\n",
              "</style>\n",
              "<table border=\"1\" class=\"dataframe\">\n",
              "  <thead>\n",
              "    <tr style=\"text-align: right;\">\n",
              "      <th></th>\n",
              "      <th>filename</th>\n",
              "      <th>text</th>\n",
              "      <th>up_votes</th>\n",
              "      <th>down_votes</th>\n",
              "      <th>age</th>\n",
              "      <th>gender</th>\n",
              "      <th>accent</th>\n",
              "      <th>duration</th>\n",
              "    </tr>\n",
              "  </thead>\n",
              "  <tbody>\n",
              "    <tr>\n",
              "      <th>0</th>\n",
              "      <td>cv-valid-dev/sample-000000.mp3</td>\n",
              "      <td>be careful with your prognostications said the stranger</td>\n",
              "      <td>1</td>\n",
              "      <td>0</td>\n",
              "      <td>NaN</td>\n",
              "      <td>NaN</td>\n",
              "      <td>NaN</td>\n",
              "      <td>NaN</td>\n",
              "    </tr>\n",
              "    <tr>\n",
              "      <th>1</th>\n",
              "      <td>cv-valid-dev/sample-000001.mp3</td>\n",
              "      <td>then why should they be surprised when they see one</td>\n",
              "      <td>2</td>\n",
              "      <td>0</td>\n",
              "      <td>NaN</td>\n",
              "      <td>NaN</td>\n",
              "      <td>NaN</td>\n",
              "      <td>NaN</td>\n",
              "    </tr>\n",
              "    <tr>\n",
              "      <th>2</th>\n",
              "      <td>cv-valid-dev/sample-000002.mp3</td>\n",
              "      <td>a young arab also loaded down with baggage entered and greeted the englishman</td>\n",
              "      <td>2</td>\n",
              "      <td>0</td>\n",
              "      <td>NaN</td>\n",
              "      <td>NaN</td>\n",
              "      <td>NaN</td>\n",
              "      <td>NaN</td>\n",
              "    </tr>\n",
              "    <tr>\n",
              "      <th>3</th>\n",
              "      <td>cv-valid-dev/sample-000003.mp3</td>\n",
              "      <td>i thought that everything i owned would be destroyed</td>\n",
              "      <td>3</td>\n",
              "      <td>0</td>\n",
              "      <td>NaN</td>\n",
              "      <td>NaN</td>\n",
              "      <td>NaN</td>\n",
              "      <td>NaN</td>\n",
              "    </tr>\n",
              "    <tr>\n",
              "      <th>4</th>\n",
              "      <td>cv-valid-dev/sample-000004.mp3</td>\n",
              "      <td>he moved about invisible but everyone could hear him</td>\n",
              "      <td>1</td>\n",
              "      <td>0</td>\n",
              "      <td>fourties</td>\n",
              "      <td>female</td>\n",
              "      <td>england</td>\n",
              "      <td>NaN</td>\n",
              "    </tr>\n",
              "  </tbody>\n",
              "</table>\n",
              "</div>\n",
              "    <div class=\"colab-df-buttons\">\n",
              "\n",
              "  <div class=\"colab-df-container\">\n",
              "    <button class=\"colab-df-convert\" onclick=\"convertToInteractive('df-7d5932dd-38fa-4f03-9109-8fad62162910')\"\n",
              "            title=\"Convert this dataframe to an interactive table.\"\n",
              "            style=\"display:none;\">\n",
              "\n",
              "  <svg xmlns=\"http://www.w3.org/2000/svg\" height=\"24px\" viewBox=\"0 -960 960 960\">\n",
              "    <path d=\"M120-120v-720h720v720H120Zm60-500h600v-160H180v160Zm220 220h160v-160H400v160Zm0 220h160v-160H400v160ZM180-400h160v-160H180v160Zm440 0h160v-160H620v160ZM180-180h160v-160H180v160Zm440 0h160v-160H620v160Z\"/>\n",
              "  </svg>\n",
              "    </button>\n",
              "\n",
              "  <style>\n",
              "    .colab-df-container {\n",
              "      display:flex;\n",
              "      gap: 12px;\n",
              "    }\n",
              "\n",
              "    .colab-df-convert {\n",
              "      background-color: #E8F0FE;\n",
              "      border: none;\n",
              "      border-radius: 50%;\n",
              "      cursor: pointer;\n",
              "      display: none;\n",
              "      fill: #1967D2;\n",
              "      height: 32px;\n",
              "      padding: 0 0 0 0;\n",
              "      width: 32px;\n",
              "    }\n",
              "\n",
              "    .colab-df-convert:hover {\n",
              "      background-color: #E2EBFA;\n",
              "      box-shadow: 0px 1px 2px rgba(60, 64, 67, 0.3), 0px 1px 3px 1px rgba(60, 64, 67, 0.15);\n",
              "      fill: #174EA6;\n",
              "    }\n",
              "\n",
              "    .colab-df-buttons div {\n",
              "      margin-bottom: 4px;\n",
              "    }\n",
              "\n",
              "    [theme=dark] .colab-df-convert {\n",
              "      background-color: #3B4455;\n",
              "      fill: #D2E3FC;\n",
              "    }\n",
              "\n",
              "    [theme=dark] .colab-df-convert:hover {\n",
              "      background-color: #434B5C;\n",
              "      box-shadow: 0px 1px 3px 1px rgba(0, 0, 0, 0.15);\n",
              "      filter: drop-shadow(0px 1px 2px rgba(0, 0, 0, 0.3));\n",
              "      fill: #FFFFFF;\n",
              "    }\n",
              "  </style>\n",
              "\n",
              "    <script>\n",
              "      const buttonEl =\n",
              "        document.querySelector('#df-7d5932dd-38fa-4f03-9109-8fad62162910 button.colab-df-convert');\n",
              "      buttonEl.style.display =\n",
              "        google.colab.kernel.accessAllowed ? 'block' : 'none';\n",
              "\n",
              "      async function convertToInteractive(key) {\n",
              "        const element = document.querySelector('#df-7d5932dd-38fa-4f03-9109-8fad62162910');\n",
              "        const dataTable =\n",
              "          await google.colab.kernel.invokeFunction('convertToInteractive',\n",
              "                                                    [key], {});\n",
              "        if (!dataTable) return;\n",
              "\n",
              "        const docLinkHtml = 'Like what you see? Visit the ' +\n",
              "          '<a target=\"_blank\" href=https://colab.research.google.com/notebooks/data_table.ipynb>data table notebook</a>'\n",
              "          + ' to learn more about interactive tables.';\n",
              "        element.innerHTML = '';\n",
              "        dataTable['output_type'] = 'display_data';\n",
              "        await google.colab.output.renderOutput(dataTable, element);\n",
              "        const docLink = document.createElement('div');\n",
              "        docLink.innerHTML = docLinkHtml;\n",
              "        element.appendChild(docLink);\n",
              "      }\n",
              "    </script>\n",
              "  </div>\n",
              "\n",
              "\n",
              "<div id=\"df-c19c5511-07b8-49e8-ab99-891fe79420a2\">\n",
              "  <button class=\"colab-df-quickchart\" onclick=\"quickchart('df-c19c5511-07b8-49e8-ab99-891fe79420a2')\"\n",
              "            title=\"Suggest charts\"\n",
              "            style=\"display:none;\">\n",
              "\n",
              "<svg xmlns=\"http://www.w3.org/2000/svg\" height=\"24px\"viewBox=\"0 0 24 24\"\n",
              "     width=\"24px\">\n",
              "    <g>\n",
              "        <path d=\"M19 3H5c-1.1 0-2 .9-2 2v14c0 1.1.9 2 2 2h14c1.1 0 2-.9 2-2V5c0-1.1-.9-2-2-2zM9 17H7v-7h2v7zm4 0h-2V7h2v10zm4 0h-2v-4h2v4z\"/>\n",
              "    </g>\n",
              "</svg>\n",
              "  </button>\n",
              "\n",
              "<style>\n",
              "  .colab-df-quickchart {\n",
              "      --bg-color: #E8F0FE;\n",
              "      --fill-color: #1967D2;\n",
              "      --hover-bg-color: #E2EBFA;\n",
              "      --hover-fill-color: #174EA6;\n",
              "      --disabled-fill-color: #AAA;\n",
              "      --disabled-bg-color: #DDD;\n",
              "  }\n",
              "\n",
              "  [theme=dark] .colab-df-quickchart {\n",
              "      --bg-color: #3B4455;\n",
              "      --fill-color: #D2E3FC;\n",
              "      --hover-bg-color: #434B5C;\n",
              "      --hover-fill-color: #FFFFFF;\n",
              "      --disabled-bg-color: #3B4455;\n",
              "      --disabled-fill-color: #666;\n",
              "  }\n",
              "\n",
              "  .colab-df-quickchart {\n",
              "    background-color: var(--bg-color);\n",
              "    border: none;\n",
              "    border-radius: 50%;\n",
              "    cursor: pointer;\n",
              "    display: none;\n",
              "    fill: var(--fill-color);\n",
              "    height: 32px;\n",
              "    padding: 0;\n",
              "    width: 32px;\n",
              "  }\n",
              "\n",
              "  .colab-df-quickchart:hover {\n",
              "    background-color: var(--hover-bg-color);\n",
              "    box-shadow: 0 1px 2px rgba(60, 64, 67, 0.3), 0 1px 3px 1px rgba(60, 64, 67, 0.15);\n",
              "    fill: var(--button-hover-fill-color);\n",
              "  }\n",
              "\n",
              "  .colab-df-quickchart-complete:disabled,\n",
              "  .colab-df-quickchart-complete:disabled:hover {\n",
              "    background-color: var(--disabled-bg-color);\n",
              "    fill: var(--disabled-fill-color);\n",
              "    box-shadow: none;\n",
              "  }\n",
              "\n",
              "  .colab-df-spinner {\n",
              "    border: 2px solid var(--fill-color);\n",
              "    border-color: transparent;\n",
              "    border-bottom-color: var(--fill-color);\n",
              "    animation:\n",
              "      spin 1s steps(1) infinite;\n",
              "  }\n",
              "\n",
              "  @keyframes spin {\n",
              "    0% {\n",
              "      border-color: transparent;\n",
              "      border-bottom-color: var(--fill-color);\n",
              "      border-left-color: var(--fill-color);\n",
              "    }\n",
              "    20% {\n",
              "      border-color: transparent;\n",
              "      border-left-color: var(--fill-color);\n",
              "      border-top-color: var(--fill-color);\n",
              "    }\n",
              "    30% {\n",
              "      border-color: transparent;\n",
              "      border-left-color: var(--fill-color);\n",
              "      border-top-color: var(--fill-color);\n",
              "      border-right-color: var(--fill-color);\n",
              "    }\n",
              "    40% {\n",
              "      border-color: transparent;\n",
              "      border-right-color: var(--fill-color);\n",
              "      border-top-color: var(--fill-color);\n",
              "    }\n",
              "    60% {\n",
              "      border-color: transparent;\n",
              "      border-right-color: var(--fill-color);\n",
              "    }\n",
              "    80% {\n",
              "      border-color: transparent;\n",
              "      border-right-color: var(--fill-color);\n",
              "      border-bottom-color: var(--fill-color);\n",
              "    }\n",
              "    90% {\n",
              "      border-color: transparent;\n",
              "      border-bottom-color: var(--fill-color);\n",
              "    }\n",
              "  }\n",
              "</style>\n",
              "\n",
              "  <script>\n",
              "    async function quickchart(key) {\n",
              "      const quickchartButtonEl =\n",
              "        document.querySelector('#' + key + ' button');\n",
              "      quickchartButtonEl.disabled = true;  // To prevent multiple clicks.\n",
              "      quickchartButtonEl.classList.add('colab-df-spinner');\n",
              "      try {\n",
              "        const charts = await google.colab.kernel.invokeFunction(\n",
              "            'suggestCharts', [key], {});\n",
              "      } catch (error) {\n",
              "        console.error('Error during call to suggestCharts:', error);\n",
              "      }\n",
              "      quickchartButtonEl.classList.remove('colab-df-spinner');\n",
              "      quickchartButtonEl.classList.add('colab-df-quickchart-complete');\n",
              "    }\n",
              "    (() => {\n",
              "      let quickchartButtonEl =\n",
              "        document.querySelector('#df-c19c5511-07b8-49e8-ab99-891fe79420a2 button');\n",
              "      quickchartButtonEl.style.display =\n",
              "        google.colab.kernel.accessAllowed ? 'block' : 'none';\n",
              "    })();\n",
              "  </script>\n",
              "</div>\n",
              "    </div>\n",
              "  </div>\n"
            ]
          },
          "metadata": {},
          "execution_count": 18
        }
      ]
    },
    {
      "cell_type": "markdown",
      "source": [
        "# Tokenization"
      ],
      "metadata": {
        "id": "jEtWebuSeKKX"
      }
    },
    {
      "cell_type": "code",
      "source": [
        "# Tokenisasi kolom 'text' menggunakan library nltk atau library NLP lainnya\n",
        "import nltk\n",
        "from nltk.tokenize import word_tokenize\n",
        "\n",
        "nltk.download('punkt')  # Download data yang dibutuhkan oleh nltk\n",
        "data_train['tokenized_text'] = data_train['text'].apply(lambda x: word_tokenize(x.lower()))\n",
        "\n",
        "# Periksa hasil tokenisasi\n",
        "print(data_train[['text', 'tokenized_text']].head())"
      ],
      "metadata": {
        "id": "zkWOUXCyeWni",
        "colab": {
          "base_uri": "https://localhost:8080/"
        },
        "outputId": "e21e3235-682d-4073-f35c-c4fac60d5bc2"
      },
      "execution_count": 19,
      "outputs": [
        {
          "output_type": "stream",
          "name": "stderr",
          "text": [
            "[nltk_data] Downloading package punkt to /root/nltk_data...\n",
            "[nltk_data]   Unzipping tokenizers/punkt.zip.\n"
          ]
        },
        {
          "output_type": "stream",
          "name": "stdout",
          "text": [
            "                                                                                  text  \\\n",
            "0                       learn to recognize omens and follow them the old king had said   \n",
            "1                                           everything in the universe evolved he said   \n",
            "2                you came so that you could learn about your dreams said the old woman   \n",
            "3              so now i fear nothing because it was those omens that brought you to me   \n",
            "4  if you start your emails with greetings let me be the first to welcome you to earth   \n",
            "\n",
            "                                                                                          tokenized_text  \n",
            "0                            [learn, to, recognize, omens, and, follow, them, the, old, king, had, said]  \n",
            "1                                                     [everything, in, the, universe, evolved, he, said]  \n",
            "2                   [you, came, so, that, you, could, learn, about, your, dreams, said, the, old, woman]  \n",
            "3                [so, now, i, fear, nothing, because, it, was, those, omens, that, brought, you, to, me]  \n",
            "4  [if, you, start, your, emails, with, greetings, let, me, be, the, first, to, welcome, you, to, earth]  \n"
          ]
        }
      ]
    },
    {
      "cell_type": "code",
      "source": [
        "# Tokenisasi kolom 'text' pada data validasi\n",
        "data_val['tokenized_text'] = data_val['text'].apply(lambda x: word_tokenize(x.lower()))\n",
        "\n",
        "# Periksa hasil tokenisasi\n",
        "print(data_val[['text', 'tokenized_text']].head())"
      ],
      "metadata": {
        "id": "sjkSFfgFfGdP",
        "colab": {
          "base_uri": "https://localhost:8080/"
        },
        "outputId": "6cb6099e-1cd4-4e3e-b7be-03288c8a1226"
      },
      "execution_count": 20,
      "outputs": [
        {
          "output_type": "stream",
          "name": "stdout",
          "text": [
            "                                                                            text  \\\n",
            "0                        be careful with your prognostications said the stranger   \n",
            "1                            then why should they be surprised when they see one   \n",
            "2  a young arab also loaded down with baggage entered and greeted the englishman   \n",
            "3                           i thought that everything i owned would be destroyed   \n",
            "4                           he moved about invisible but everyone could hear him   \n",
            "\n",
            "                                                                                tokenized_text  \n",
            "0                             [be, careful, with, your, prognostications, said, the, stranger]  \n",
            "1                               [then, why, should, they, be, surprised, when, they, see, one]  \n",
            "2  [a, young, arab, also, loaded, down, with, baggage, entered, and, greeted, the, englishman]  \n",
            "3                               [i, thought, that, everything, i, owned, would, be, destroyed]  \n",
            "4                               [he, moved, about, invisible, but, everyone, could, hear, him]  \n"
          ]
        }
      ]
    },
    {
      "cell_type": "code",
      "source": [
        "from tensorflow.keras.preprocessing.text import Tokenizer\n",
        "\n",
        "# Membuat Tokenizer\n",
        "tokenizer = Tokenizer()\n",
        "tokenizer.fit_on_texts(data_train['tokenized_text'])\n",
        "\n",
        "sample_size_train = 1000\n",
        "sample_size_val = 100\n",
        "\n",
        "# Konversi token menjadi indeks numerik\n",
        "X_train_sequence = tokenizer.texts_to_sequences(data_train['tokenized_text'][:sample_size_train])\n",
        "X_val_sequence = tokenizer.texts_to_sequences(data_val['tokenized_text'][:sample_size_val])\n",
        "\n",
        "print(X_train_sequence)\n",
        "print(X_val_sequence)\n"
      ],
      "metadata": {
        "colab": {
          "base_uri": "https://localhost:8080/"
        },
        "id": "4UktWbLwonpv",
        "outputId": "aa75d6da-7dce-4b23-c3fa-d3f648a6ff48"
      },
      "execution_count": 35,
      "outputs": [
        {
          "output_type": "stream",
          "name": "stdout",
          "text": [
            "[[332, 2, 1289, 187, 4, 1078, 57, 1, 69, 243, 15, 18], [126, 12, 1, 1522, 1543, 7, 18], [10, 98, 46, 11, 10, 71, 332, 32, 47, 383, 18, 1, 69, 206], [46, 88, 3, 369, 119, 91, 8, 9, 117, 187, 11, 308, 10, 2, 31], [60, 10, 348, 47, 966, 22, 1005, 144, 31, 30, 1, 108, 2, 919, 10, 2, 208], [5, 297, 307, 73, 2, 384, 24, 7, 139, 76, 389, 32, 17, 134], [111, 222, 4, 63, 2562, 6, 747, 125, 4, 1303, 748, 4, 2563, 1, 329], [3, 174, 5, 637, 295, 574, 26, 582], [267, 4355, 146, 33, 1, 4356], [58, 7, 1079, 12, 188, 247, 3, 62, 805, 28, 7, 116, 18], [10, 135, 40, 144, 64, 143, 173, 419, 141, 46, 260, 7, 301], [60, 10, 27, 2, 290, 275, 1, 226, 20, 109, 55, 290], [26, 575, 317, 44, 2, 31, 1, 1087, 6, 1, 511, 402, 4, 742, 487, 403], [24, 7, 15, 107, 5, 1502, 4, 53, 16, 79, 2, 562, 44, 33, 63, 2203], [38, 21, 157, 2, 3052, 1, 4357, 5, 4358, 220, 12, 1, 1346], [3, 1690, 333, 621, 25, 8], [7, 9, 26, 1494], [24, 7, 249, 2, 197, 5, 1248], [42, 90, 396, 41, 47, 4554], [55, 21, 95, 5101, 6, 74, 2873, 4, 106, 5102], [8, 9, 947, 488, 22, 948, 949, 4, 869, 950, 39, 1, 648, 494], [3, 27, 56, 638, 32, 2320, 94, 32, 1, 295, 6, 1, 605], [1895, 37, 203, 22, 5, 2529, 46, 1305, 11, 8, 2530, 44, 1, 159], [3, 15, 113, 41, 11, 8, 61, 1176, 477, 31], [3, 176, 26, 387, 2321, 1, 615, 23, 51, 7, 18], [3, 19, 79, 11, 2741, 1436], [92, 304, 314, 146, 87, 33, 37, 1604, 3, 15, 5, 2031, 182, 168], [19, 16, 144, 57, 78, 11, 10, 93, 399, 1, 48, 18], [10, 71, 16, 143, 30, 2766, 32, 404, 4000], [1, 245, 1913, 106, 123, 175, 24, 58, 3, 149, 514, 29, 9, 56, 36, 29], [258, 232, 5, 593, 6, 849, 199, 150, 855, 4, 550, 672], [121, 893, 34, 909, 749, 15, 2, 780, 970, 25, 341, 97, 4, 60, 5, 894, 474, 10, 10, 15, 2, 495, 44, 275, 1, 250, 226], [121, 893, 34, 909, 749, 15, 2, 780, 970, 25, 341, 97, 4, 60, 5, 894, 474, 10, 10, 15, 2, 495, 44, 275, 1, 250, 226], [1, 304, 6, 1622, 1, 1460, 1447, 1, 236, 370, 4, 1, 2359, 2360], [3, 27, 15, 1, 189, 182, 1200, 7, 18], [1, 13, 9, 1305, 4, 162, 2, 2475, 24, 7, 9, 12, 5, 2429, 753], [350, 1, 531, 6, 11, 1860, 65, 183, 1, 339, 1861, 7, 18, 2, 17, 273], [8, 9, 996, 123, 12, 1140, 4, 1006, 138, 33, 1, 156], [195, 11, 14, 104, 21, 265, 64, 33, 8, 46, 337, 168], [5, 276, 482, 207, 98, 123, 4, 222, 22, 5, 700, 4, 887, 971], [1, 2725, 3376, 505, 1, 520, 6, 1, 695], [27, 5, 132, 3589], [443, 12, 47, 128, 24, 76, 389, 11, 10, 93, 12, 1, 84], [5410, 6, 3017, 888, 3500, 941], [21, 34, 51, 6, 1, 84, 4, 2032, 2, 361, 17, 496, 32, 1, 460, 2033], [26, 1025, 277, 1063, 1026, 20, 488, 40, 1064], [29, 9, 667, 56, 518, 23, 80, 2, 1691, 8, 2, 1, 532, 1428], [217, 6, 57, 34, 621, 559, 25, 1, 420, 352], [10, 916, 428, 197, 37, 514], [46, 65, 82, 42, 218, 41, 165, 1109], [66, 1, 4183, 2162, 6, 1, 3704], [46, 1, 13, 9, 408, 7, 249, 11, 7, 61, 76, 175, 338, 12, 383], [65, 19, 10, 498], [19, 16, 10, 50, 11, 241, 14, 124, 3424], [11, 52, 20, 2476], [1, 731, 1825, 125, 65, 2, 928, 1, 84, 4, 65, 70, 570, 139, 1172], [3, 45, 126, 1, 2702, 2703, 18, 3, 9], [3, 45, 12, 5, 2933], [8, 1393, 56, 2280, 66, 38, 1, 1522, 661, 551, 38, 8, 1579, 115, 1637, 67], [451, 5, 296, 206, 410, 77, 9, 40, 668, 12, 526], [143, 60, 10, 2767, 26, 194, 23, 63, 532, 277], [1088, 3705, 3501, 10, 171, 2564], [290, 23, 1, 259, 6, 1, 226], [196, 9, 315, 8, 12], [8, 112, 7, 15, 133, 1, 285, 910, 23, 119], [10, 93, 192, 23, 2281, 1977, 7, 281, 74, 1523, 39, 1, 2282, 4, 336, 33], [1, 67, 135, 27, 59, 395, 177, 540, 662], [60, 5, 293, 20, 387, 44, 17, 200, 7, 344, 126, 7, 661, 2, 50], [1, 684, 6, 5411, 5412, 2361, 33, 70, 2241, 192, 902], [1, 13, 9, 1403, 38, 7, 193, 80, 11, 102], [54, 106, 109, 2, 1, 1684, 2, 450, 33, 3018, 2511], [21, 34, 1953, 496, 341, 6, 57, 639, 44, 17, 200, 2, 1, 259], [1, 4184, 1817, 142, 2, 1166, 920], [1, 840, 1201, 33, 541, 1196, 11, 1, 911, 6, 86, 108, 555, 9, 32, 1202, 94, 36, 242, 529], [28, 60, 10, 181, 16, 1410, 35], [3, 49, 32, 1, 958, 12, 879, 11, 191, 1027], [7, 53, 16, 171, 2, 1461, 17, 1818, 4, 1437, 2, 506], [8, 9, 947, 488, 22, 948, 949, 4, 869, 950, 39, 1, 648, 494], [24, 10, 19, 16, 50, 32, 152], [24, 55, 7, 515, 11, 7, 9, 16, 75, 2, 27, 2, 396, 147], [104, 19, 10, 79, 2, 136, 11, 523, 6, 293, 1, 298, 83], [1, 230, 20, 1038, 1, 718, 3, 140, 162, 8, 2, 30], [65, 19, 10, 1256, 1, 2680, 2283], [3, 66, 19, 16, 443, 506, 77, 467, 21, 99, 76, 15, 1110, 1111], [4, 227, 72, 1796, 1486, 4, 1797], [2, 5233, 1, 2659, 5234, 1659, 786, 19, 5, 5235], [17, 521, 34, 2322, 4, 1389, 24, 7, 1114, 2, 17, 128], [1, 48, 1481, 38, 1, 13, 14, 346, 583, 23, 254, 464, 63, 455], [41, 37, 424, 356, 1544, 4, 1260, 1, 13, 49], [676, 3, 267, 5, 114, 2874, 12, 1, 1366], [2, 1482, 1, 537], [710, 31, 131, 29, 20, 161, 44, 12, 1, 84], [77, 20, 37, 417, 77, 1079, 6, 187, 83, 36, 6, 1, 711, 2742, 1, 13], [210, 26, 273, 1088, 2726], [79, 2, 696, 2, 179, 1875], [1007, 903, 6, 246, 94, 545, 62, 30, 113, 115, 5, 719, 354], [3, 53, 16, 1167, 12], [8, 14, 1278, 12, 1, 1371, 5, 648, 67, 23, 1366], [3, 96, 805, 383], [1, 1411, 1405, 31, 109, 22, 8], [464, 63, 455, 634, 17, 1596, 1533, 129, 1239], [1, 4185, 39, 1, 2058, 9, 3019], [32, 1048, 3, 312, 85, 2, 26, 232, 12, 1049, 91, 119, 112, 2, 30, 714], [1, 836, 318, 9, 1015, 38, 260, 38, 36, 71, 78, 4, 8, 9, 105, 832, 123, 246], [24, 7, 249, 2, 197, 5, 1248], [8, 9, 760, 1978], [3, 19, 16, 244, 28, 10, 93, 334, 32, 1, 84, 18], [1, 120, 15, 845, 2704, 378, 22, 327], [7, 313, 33, 5, 560, 4, 1298, 163, 2, 294, 2059, 72, 1, 738], [8, 20, 3, 1, 13, 130], [929, 3, 15, 5, 1630, 291], [7, 105, 2962, 17, 353, 3849, 1538], [8, 14, 787, 2, 1133, 81, 3229, 46, 205, 1, 1801, 1442], [66, 2531, 57, 133, 35, 371, 169], [1, 13, 289, 11, 1, 531, 6, 1, 594, 310, 427, 1182, 2727, 2, 70, 576], [2728, 90, 2681, 17, 1443, 3053], [1719, 806, 1, 736, 277, 10, 90, 303, 32, 1, 153], [10, 99, 95, 17, 1290], [17, 521, 34, 2322, 4, 1389, 24, 7, 1114, 2, 17, 128], [8, 14, 40, 2633, 24, 8, 2060, 5, 322], [42, 135, 30, 132], [657, 109, 80, 743], [19, 16, 265, 12, 2, 47, 2430, 18, 1, 48, 12, 5, 2431, 1679, 628], [29, 14, 5, 533, 44, 743], [1, 13, 793, 17, 772], [997, 20, 40, 26, 769, 24, 937, 946, 82, 251], [10, 93, 5, 870, 1278, 23, 622, 167], [10, 916, 428, 197, 37, 514], [10, 27, 100, 31, 32, 47, 383, 32, 1, 69, 243, 4, 47, 153], [24, 1, 13, 9, 712], [997, 20, 40, 26, 769, 24, 937, 946, 82, 251], [1, 1284, 1826, 12, 1561], [22, 1, 241, 22, 1, 2394, 1597, 17, 212, 61, 76, 30, 1, 189, 175], [7, 174, 5, 1162, 1228, 233, 4, 101, 1, 526, 617, 1229, 484, 63, 1230, 94, 46], [1827, 1, 345, 36], [73, 2323, 4, 73, 2061, 73, 1935, 4, 2324, 2325], [3, 773, 10, 93, 146], [3, 49, 32, 1, 958, 12, 879, 11, 191, 1027], [29, 9, 124, 114, 334], [1, 92, 312, 44, 264, 1, 1286], [7, 15, 59, 46, 260, 142, 11, 17, 563, 9, 16, 143, 463], [21, 1095, 1096, 11, 43, 463, 5, 987, 4, 5, 464, 142], [125, 27, 76, 234, 1, 370, 6, 1, 459], [342, 135, 27, 113, 8, 4, 564, 8, 23, 5, 287, 235], [45, 41, 32, 117, 571, 1306, 1307, 11, 1308, 67, 4, 328], [68, 1, 3054, 1896], [21, 34, 236, 327], [10, 100, 31, 11], [56, 1134, 1, 491, 15, 530, 5, 500, 6, 245], [19, 10, 79, 2, 1954, 11, 611], [92, 212, 634, 1, 158, 281, 2, 1, 13, 32, 1, 1183], [3, 76, 1802, 5, 657, 12, 26, 161], [132, 479, 2, 10], [195, 393, 18, 1, 13, 1342, 142], [3, 9, 66, 1309], [144, 35, 27, 126, 7, 654], [1, 691, 111, 1, 13, 220, 25, 1, 48, 14, 329, 22, 5, 346], [36, 62, 606, 165, 92, 444, 22, 156, 283, 64, 1, 114, 542, 12, 1, 255, 959], [556, 20, 5, 753, 11, 20, 715, 4721, 12, 1, 3230], [7, 9, 1876, 72, 28, 15, 424], [1, 13, 151, 4, 9, 88, 788, 546, 8], [4001, 14, 5, 746, 206], [2, 618, 36, 14, 200, 20, 5, 293, 14, 96, 1179, 1487], [70, 1168, 34, 624, 421, 345, 1781, 22, 96, 70, 201, 1419], [8, 20, 3, 77, 2395, 2, 19, 46, 18, 1, 13], [37, 20, 23, 10, 7, 18, 1312, 36, 6, 1, 901, 44, 2, 1, 391], [58, 3, 292, 2, 1, 787, 1, 159, 9, 644], [1, 13, 998, 4, 55, 930, 1, 69, 52, 66, 38, 7, 163, 15, 59, 930], [1, 1913, 2997, 9, 441, 23, 364, 977, 211], [217, 6, 57, 34, 621, 559, 25, 1, 420, 352], [258, 232, 5, 593, 6, 849, 199, 150, 855, 4, 550, 672], [1, 13, 106, 2, 1, 155, 198, 102, 2, 833, 22, 229], [8, 14, 1, 218, 6, 1, 1549, 14, 663, 229, 18], [3, 372, 174, 119, 6, 11], [1, 13, 515, 17, 182, 4, 207, 126, 9, 483, 2, 35], [68, 74, 320, 693], [1, 13, 1610, 57, 36, 72, 36, 22, 17, 1355, 1343, 341, 72, 218], [29, 9, 5, 700, 2034, 39, 5, 206, 1291, 421, 150], [55, 398, 22, 1, 412], [7, 20, 75, 2, 1279, 163, 81, 1, 148, 66, 2, 1461, 17, 1979], [10, 93, 105, 5, 132, 4555], [710, 31, 131, 29, 20, 161, 44, 12, 1, 84], [29, 20, 16, 122, 89, 442], [215, 37, 3192, 2, 10], [1, 13, 9, 1955], [21, 162, 2, 822, 1, 270], [92, 1184, 493, 1390, 6, 57], [3, 76, 18, 3, 166, 197, 8], [3, 19, 16, 183, 73, 368, 7, 18], [1, 739, 43, 744, 72, 1, 148, 24, 1, 84, 76, 1598], [207, 7, 1177, 4, 3, 71, 361, 5, 637, 2034, 421, 1, 1412], [19, 16, 3193, 22, 31, 87], [7, 14, 12, 26, 351], [20, 54, 38, 132, 38, 10, 154], [21, 378, 211, 2396], [380, 302, 581, 36, 4, 55, 279, 64], [37, 20, 1, 221, 1349, 10, 93, 334, 2], [10, 82, 811, 11, 455, 379, 3706, 22, 3707, 3708], [1, 69, 52, 292, 1, 271, 2, 1, 13], [8, 9, 66, 11, 7, 71, 16, 2242, 28, 8, 577], [29, 135, 30, 678, 29], [26, 224, 583, 33, 1, 1039, 6, 86, 917], [3, 45, 1, 243, 6, 664, 1, 69, 52, 15, 18], [3, 50, 86, 2130, 4, 65, 8, 2131], [188, 1303, 519, 11, 52, 4, 308, 35, 2, 556], [3, 1690, 333, 621, 25, 8], [393, 629, 47, 253, 4, 374, 5, 346], [68, 138, 2815], [92, 212, 634, 1, 158, 281, 2, 1, 13, 32, 1, 1183], [17, 1631, 112, 2, 30, 2035, 22, 1425, 9, 12, 1, 284], [10, 27, 16, 95, 47, 1838, 286], [8, 9, 4186, 1344, 4, 761], [1, 69, 52, 528, 17, 798, 4, 1, 13, 9, 1754, 72, 28, 7, 101], [65, 9, 11, 23, 5, 3850, 5532], [7, 18, 2, 813, 142, 2, 331, 1185, 33, 1, 4935], [77, 14, 95, 1, 351, 250, 2, 1728], [21, 34, 1737, 2, 31, 38, 5, 436, 72, 5, 243, 1, 13, 18], [2113, 10, 63, 213, 6, 1, 3425], [1, 1183, 9, 4359], [88, 3, 79, 2, 350, 10, 2934, 5, 716, 6, 1660], [551, 6, 28, 1, 69, 52, 9, 547, 133, 183, 781, 2, 1, 13], [1, 236, 1231, 1426, 63, 1562, 2132, 339, 39, 5, 1334, 1016, 33, 17, 2133], [3, 45, 750, 428, 889, 413, 1240], [65, 71, 10, 143, 127, 11], [5, 4002, 429, 31, 23, 5, 4003, 160], [4936, 14, 4937, 137, 3, 49], [19, 16, 3193, 22, 31, 87], [29, 9, 119, 2, 608, 35, 85, 1163, 163], [8, 9, 56, 89, 456, 137, 63, 924, 925, 94, 5, 578, 751, 406, 1, 366], [10, 127, 8, 14, 938], [37, 9, 1, 1191, 6, 41, 110, 11, 282, 98, 2, 208, 39, 1192, 782], [3, 62, 1115, 64, 117, 553, 12, 1, 723, 60, 10, 79, 18, 1, 13], [1, 3426, 3427, 9, 1738, 1623, 2853], [173, 41, 77, 1695, 79, 2, 2362, 179, 2532, 4, 1563, 460, 2682], [215, 5, 52, 14, 128, 140, 210, 35, 1, 13, 83, 1, 48], [8, 14, 73, 1, 253, 319, 18, 2326, 58, 8, 14, 67, 2, 567], [4001, 14, 5, 746, 206], [11, 14, 104, 41, 570, 139, 30, 1210], [37, 20, 5, 1652, 2, 68, 47, 3709], [8, 14, 926, 1056, 11, 29, 14, 56, 638, 32, 1065, 11, 53, 16, 141, 39, 5, 828], [1, 230, 9, 1584, 4, 1, 52, 83, 1, 297, 2, 290, 275, 1, 548], [445, 1080, 6, 51, 34, 1081, 39, 1, 349, 6, 1082], [743, 21, 61, 136, 44, 1, 1645], [1624, 66, 1, 1211, 6, 117, 77, 43, 219, 2, 618, 70, 921], [11, 1097, 35, 5, 114], [710, 31, 131, 29, 20, 161, 44, 12, 1, 84], [7, 15, 2163, 7, 61, 311, 309, 2, 17, 134], [8, 9, 939, 105, 46, 358, 39, 86, 392, 115, 1, 413], [56, 1, 48, 130], [42, 19, 16, 50, 28, 14, 12, 1, 1135, 160, 19, 10], [65, 183, 20, 8, 486], [3, 107, 165, 36, 102, 12, 1, 1240], [37, 20, 5, 787, 5533, 5534, 18], [3, 19, 16, 50, 28, 54, 14, 334, 32], [8, 41, 424, 1724, 207], [376, 78, 10, 29], [21, 441, 123, 283, 960, 81, 1, 316], [5, 322, 6, 165, 51, 43, 44, 6, 202], [7, 289, 1, 931, 912, 6, 86, 932], [36, 62, 606, 165, 92, 444, 22, 156, 283, 64, 1, 114, 542, 12, 1, 255, 959], [195, 42, 166, 169, 350, 409, 1, 13, 1438], [2835, 116, 2963, 3428], [37, 20, 3429, 2511], [1, 145, 1079, 164, 1220, 1, 13, 49], [36, 548, 36, 6, 17, 1221, 222, 1444, 4, 8, 220, 11, 7, 61, 405], [3430, 2, 1, 5869, 5870, 12, 1, 3502, 5871, 139, 16, 30, 228, 12, 913, 6, 5872], [24, 10, 43, 2284, 31, 2, 214, 25, 1394, 4, 25, 2285, 3, 27, 76, 685], [21, 1739, 41, 2904, 6, 70, 3503], [7, 940, 23, 1, 789, 4, 83, 1, 297, 2, 141, 85, 1, 691, 277], [1, 1011, 4, 967, 1012, 34, 228, 2, 658, 44, 478, 1, 340, 306], [4, 8, 14, 40, 152, 2, 78, 126, 39, 5, 328, 73, 10, 19], [7, 18, 2, 813, 142, 2, 331, 1185, 33, 1, 4935], [1, 13, 301, 2, 407, 2, 17, 128, 38, 21, 665, 1, 84], [3, 929, 10, 61, 16], [3, 9, 1653, 60, 10, 71, 172, 31, 5, 397, 89, 32, 28, 8, 14, 73, 2, 268, 4, 202, 29], [26, 273, 519, 41, 1, 97, 134, 760], [1249, 715, 220, 12, 1, 359, 1703, 4, 1936, 70, 236, 1937, 845, 446, 5, 102], [29, 20, 5, 5873, 12, 26, 3710, 3020], [65, 43, 10], [3, 79, 2, 604, 25, 1, 270, 1, 13, 130], [4, 36, 94, 92, 933, 34, 704], [28, 14, 12, 11, 1116], [3, 107, 5, 114, 280, 6, 32, 364, 51, 607, 1, 382, 284], [3, 95, 999, 572, 4, 49, 3, 614, 5, 1066, 816], [1, 13, 15, 422, 1, 48], [46, 58, 3, 214, 44, 109, 47, 534, 3, 256, 227, 192, 25, 80], [2634, 9, 287, 38, 1, 13, 1488, 22, 17, 2635, 25, 63, 951, 1280], [126, 3, 19, 20, 1661], [91, 7, 151, 28, 7, 61, 136], [12, 17, 128, 7, 162, 2, 1472, 1771, 24, 7, 227, 162, 2, 669], [1, 13, 53, 16, 154, 147], [29, 34, 66, 2114, 2164, 1801, 4, 1762, 2165], [4, 1, 156, 4, 508, 15, 59, 1067, 1008, 12, 198, 349], [28, 14, 47, 218, 7, 83], [11, 14, 95, 119, 2, 19, 22, 8], [3, 174, 5, 637, 295, 574, 26, 582], [1, 13, 1654, 11, 198, 67, 7, 174, 1, 1913, 7, 61, 1273, 86, 2565], [3, 66, 19, 16, 443, 506, 77, 467, 21, 99, 76, 15, 1110, 1111], [3, 27, 302, 1, 412, 38, 8, 665, 1, 84, 7, 18], [42, 62, 96, 7403, 5, 321, 6, 1, 7404, 367, 7405, 1, 159, 7406], [1, 877, 1725, 34, 2286, 72, 388, 4, 161, 106, 33], [21, 565, 406, 1, 145, 278, 5, 1980, 4, 22, 56, 203, 2, 405], [451, 5, 296, 206, 410, 77, 9, 40, 668, 12, 526], [3, 19, 16, 50, 10, 39, 3021], [21, 34, 4722, 138, 1, 1331, 22, 56, 4723, 23, 506], [29, 9, 124, 114, 334], [8, 9, 1, 67, 6, 102, 58, 41, 6, 2363, 1244, 806, 1, 1839], [21, 1739, 41, 2904, 6, 70, 3503], [5103, 71, 16, 371, 122, 89, 3711, 146, 88], [7, 14, 3231, 2, 35], [3, 53, 16, 27, 67, 2, 68, 74, 4004, 4005], [524, 198, 3274, 1713, 25, 1713, 77, 344, 28], [3, 107, 5, 114, 280, 6, 32, 364, 51, 607, 1, 382, 284], [5, 365, 401, 6, 255, 724, 554, 356, 1, 216, 4, 1, 470, 6, 1, 190], [1719, 806, 1, 736, 277, 10, 90, 303, 32, 1, 153], [3, 45, 40, 1439, 147, 1, 13, 130], [10, 2432, 117, 1184, 22, 1, 103, 10, 149, 25, 57, 7, 18], [19, 16, 3193, 22, 31, 87], [29, 14, 5, 322, 89, 10, 62, 19, 22, 5, 6702, 6703, 22, 1, 512, 6084, 4006], [7, 151, 28, 3, 9, 568, 1, 13, 18, 2, 163], [28, 34, 10, 75, 2, 561, 32, 3323], [7, 9, 32, 1, 189, 1956, 4, 911, 38, 1, 13], [4360, 4361, 1, 1350, 1442], [11, 7, 162, 2, 384], [1098, 26, 182, 6, 778, 5, 1104, 1105, 307, 76, 251], [7, 15, 324, 12, 2000, 2, 2036, 5, 2037, 22, 63, 48], [7, 151, 119, 32, 1, 2636, 6, 1, 236, 1185, 7, 9, 12], [39, 11, 102, 33, 8, 9, 1, 84, 11, 61, 30, 449], [8, 14, 1, 270, 18, 1, 253, 319], [4, 1, 241, 317, 2, 1, 1680, 2605, 11, 8, 9, 29, 1, 236, 52, 639], [8, 9, 113, 337, 12, 1, 221, 978, 109, 979], [155, 55, 104, 19, 42, 171, 41, 165, 327, 1, 13, 83], [8, 9, 5, 236, 2606, 2790, 72, 2791, 22, 5, 2792, 2793, 2794, 33, 216], [15, 188, 952, 988, 8, 42, 191, 27, 59, 223, 2, 78, 1, 632, 103, 85, 58], [46, 2001, 1257, 12, 8], [104, 53, 10, 79, 2, 78, 31, 1, 13, 83], [30, 1666, 22, 47, 1877, 18, 1, 417], [17, 218, 20, 3712], [21, 18, 119, 390], [24, 11, 9, 425, 91, 26, 512, 9, 630], [10, 19, 16, 27, 2, 30, 625, 1124, 890, 94, 143, 180, 5, 798, 2, 834, 5, 1089, 880, 6, 1125], [1, 1068, 4, 508, 177, 8, 112, 1069, 38, 60, 72, 5, 942, 1070], [1, 52, 149, 25, 1, 1155, 12, 1197], [24, 21, 34, 40, 29], [55, 1, 92, 106, 123, 2, 27, 74, 89, 299], [11, 9, 17, 202], [28, 47, 1323, 9, 2875, 64, 12], [1, 13, 2204, 1, 2205, 7, 15, 289, 33, 1, 904, 102], [60, 3, 45, 33, 1, 1555, 3, 66, 733, 33, 1740], [42, 19, 16, 50, 58, 1, 226, 82, 259, 46, 42, 181, 16, 509, 188, 910, 7, 18], [29, 20, 56, 442, 12, 37, 753, 1, 296, 52, 18], [1, 111, 9, 681, 4, 3, 9, 897], [8, 14, 1, 96, 36, 21, 15, 193], [4, 5, 3431, 1223, 73, 3432], [17, 103, 20, 16, 1, 189, 38, 557, 558, 557, 38, 17], [10, 19, 16, 27, 2, 30, 625, 1124, 890, 94, 143, 180, 5, 798, 2, 834, 5, 1089, 880, 6, 1125], [29, 9, 56, 97, 1803], [24, 1, 13, 9, 712], [53, 10, 154, 5, 243, 7, 83], [28, 7, 18, 817, 1, 13, 6, 1, 69, 243], [24, 42, 71, 629, 299, 12, 194, 553], [7, 9, 568, 32, 187, 4, 409, 15, 220], [19, 16, 197, 122, 1840], [12, 1, 7064, 1, 5535, 3275, 7065, 252, 672, 4, 7066], [3, 106, 1057, 26, 902, 1058, 4, 381, 26, 103, 12, 1, 720], [3, 99, 302, 10, 601, 64, 39, 5, 114, 13], [8, 14, 1, 96, 218, 3, 99, 95], [1, 840, 1201, 33, 541, 1196, 11, 1, 911, 6, 86, 108, 555, 9, 32, 1202, 94, 36, 242, 529], [21, 93, 96, 133, 6, 1347, 194, 4, 29, 43, 1638, 6, 1347, 2287, 12, 1, 208], [3, 79, 2, 78, 1, 711], [8, 116, 424, 164, 446, 121], [1, 13, 9, 373, 25, 17, 1569], [11, 102, 1, 158, 279, 1, 13, 1763, 2, 889, 1, 1183], [1098, 26, 182, 6, 778, 5, 1104, 1105, 307, 76, 251], [24, 38, 67, 199, 790, 15, 744], [26, 4938, 20, 1180, 4, 2241, 2, 1696, 12, 26, 1268], [3, 27, 167, 107, 26, 153], [1, 69, 52, 151, 65, 2, 205, 4, 15, 167, 205, 1, 271], [55, 1, 160, 98, 429, 35, 12, 5, 500], [3, 50, 11, 241], [7, 49, 6, 1, 206, 77, 15, 1083, 12, 1, 84], [24, 755, 1473, 397, 72, 397], [1098, 26, 182, 6, 778, 5, 1104, 1105, 307, 76, 251], [407, 2, 47, 128], [2, 618, 36, 14, 200, 20, 5, 293, 14, 96, 1179, 1487], [1232, 92, 1126, 1186, 4, 176, 36, 6, 57, 527, 1, 97, 36], [1, 457, 2743, 204, 23, 1, 13, 4, 1782, 35, 22, 766, 2533, 6, 225], [65, 71, 7, 30, 5, 3022], [1, 230, 1028, 34, 315, 138, 70, 1029, 4, 51, 34, 838, 70, 871, 461], [26, 1025, 277, 1063, 1026, 20, 488, 40, 1064], [41, 11, 67, 1, 502, 135, 27, 59, 379, 653], [3, 371, 73, 5, 4007], [8, 9, 996, 123, 12, 1140, 4, 1006, 138, 33, 1, 156], [55, 68, 44, 6, 87], [1, 3194, 9, 1764, 4, 3195], [6, 492, 1, 92, 34, 631, 2, 19, 147], [21, 34, 400, 503, 23, 5, 67, 1017, 1, 645, 4, 1, 2534], [8, 9, 939, 105, 46, 358, 39, 86, 392, 115, 1, 413], [10, 41, 50, 31], [42, 93, 66, 274, 2816, 115, 74, 2535, 2327, 25, 1, 272], [3, 61, 16, 79, 2, 472, 11, 3713], [5, 297, 307, 73, 2, 384, 24, 7, 139, 76, 389, 32, 17, 134], [37, 84, 9, 237, 5, 881, 7, 18], [91, 1, 194, 9, 2206], [36, 102, 1, 208, 157, 2, 1385, 4, 1, 2062, 2063, 86, 2064], [7, 15, 56, 213, 65, 7, 9, 75, 2, 1279, 163, 81, 1, 148], [21, 292, 2, 1, 1292, 6, 1, 905], [413, 9, 619, 1146, 94, 1212, 25, 1, 1213, 22, 5, 365, 1214, 233], [11, 191, 30, 41, 146], [3, 96, 805, 383], [19, 16, 197, 122, 1840], [21, 292, 2, 1, 1292, 6, 1, 905], [8, 308, 17, 128, 81, 17, 538], [54, 2065, 64, 168], [236, 802, 199, 115, 26, 224], [42, 27, 227, 626, 2683, 1, 1545, 6, 1342, 85, 2, 2795], [29, 14, 161, 87, 1, 13, 18, 2, 1, 48], [10, 71, 16, 143, 30, 2766, 32, 404, 4000], [3, 45, 75, 2, 57], [26, 575, 317, 44, 2, 31, 1, 1087, 6, 1, 511, 402, 4, 742, 487, 403], [8, 3324, 2, 31, 88], [116, 7, 59, 87], [24, 1351, 6, 404, 1615, 7, 9, 331], [10, 18, 10, 162, 3232], [1, 13, 1610, 57, 36, 72, 36, 22, 17, 1355, 1343, 341, 72, 218], [5, 365, 401, 6, 255, 724, 554, 356, 1, 216, 4, 1, 470, 6, 1, 190], [21, 441, 123, 283, 960, 81, 1, 316], [3, 929, 21, 34, 168], [7, 515, 1, 339], [1221, 98, 4, 106, 22, 1534, 2243, 2244, 22, 2245, 4, 299], [21, 34, 140, 66, 678, 2, 1895, 64, 1, 3851], [972, 725, 245, 22, 245, 8, 61, 40, 210], [29, 9, 5, 3233, 402, 367, 4939, 39, 1, 4940], [1, 216, 6, 1, 190, 9, 1084, 33, 86, 470], [7, 1177, 81, 1, 329], [7, 66, 95, 5, 179, 973, 23, 17, 818], [8, 193, 5, 1018, 1019, 11, 922, 23, 74, 923], [914, 14, 219, 2, 3023, 39, 10], [24, 7, 107, 8, 183, 89, 2038, 2, 734, 1, 412, 4, 407, 2, 1, 148], [8, 4556, 1, 4557, 3234, 38, 67], [7, 15, 262, 37, 23, 304, 4, 151, 1, 1546, 6, 170, 77, 199], [140, 1273, 1, 187, 1, 69, 243, 15, 18], [8, 2433, 2, 565, 1556, 1513, 1, 84, 534], [155, 28, 132, 61, 8, 30, 2, 10, 60, 10, 15, 1828, 405, 1, 48, 130], [3, 49, 32, 1, 958, 12, 879, 11, 191, 1027], [2998, 1358, 80, 1494, 14, 161, 11, 102], [12, 913, 6, 37, 3, 105, 585, 11, 29, 34, 125, 12, 335], [11, 7, 15, 1938, 5, 1939, 275, 7, 9, 1940], [3, 45, 75, 2, 136, 11, 2207, 48, 1, 120, 49], [468, 35, 12, 87], [195, 393, 82, 30, 169, 137, 572], [54, 135, 27, 685, 3590, 1625, 155], [1, 670, 20, 11, 21, 19, 16, 143, 618, 11, 21, 93, 1189, 5, 179, 366, 198, 102], [58, 1, 1295, 735, 2, 565, 170, 149, 2, 1, 203, 131, 1, 13, 15, 59], [1, 3055, 1817, 23, 4941, 212], [58, 7, 101, 196, 12, 17, 598, 7, 204, 109, 1, 726, 4, 133, 163, 234], [3, 27, 56, 638, 32, 2320, 94, 32, 1, 295, 6, 1, 605], [7, 4008, 1, 4009, 39, 17, 1597], [11, 14, 28, 620, 19], [7, 668, 12, 17, 1632, 1338, 6, 1166, 2512, 519, 1495, 23, 37, 102], [1, 2328, 9, 591, 2729], [481, 1, 2288], [7, 410, 1, 489, 4, 9, 373, 25, 1, 718, 4, 1, 707], [7, 1819, 4, 315, 64, 17, 1355, 157, 2, 1245, 1, 134, 11, 105, 1244], [1, 297, 1654, 11, 7, 61], [4, 10, 99, 100, 31, 119, 505, 1, 103, 18, 1, 13], [1514, 49, 1, 13], [3, 53, 16, 4187, 35], [7, 668, 12, 17, 1632, 1338, 6, 1166, 2512, 519, 1495, 23, 37, 102], [1624, 66, 1, 1211, 6, 117, 77, 43, 219, 2, 618, 70, 921], [10, 99, 76, 59, 1335], [342, 135, 27, 113, 8, 4, 564, 8, 23, 5, 287, 235], [3, 45, 764, 435, 18, 1, 13], [21, 71, 1957, 78, 1, 13], [3, 27, 2, 136, 5, 52, 77, 344, 11, 697, 247], [4, 393, 17, 1372, 61, 227, 30, 5, 321, 6, 11, 238], [3, 289, 11, 1, 13, 130], [46, 55, 426, 7, 18, 2, 1, 120], [3, 19, 16, 338, 8], [1, 4010, 640, 814, 137, 3093], [1, 108, 803, 6, 19, 16, 725, 737, 20, 144, 14, 263, 32, 8], [3, 244, 134, 21, 93, 56, 447, 5, 670, 4, 21, 62, 30, 132, 1034], [1, 216, 6, 1, 190, 9, 1084, 33, 86, 470], [1605, 54, 422, 678], [197, 47, 3433, 123, 31], [3714, 3235, 20, 63, 3715, 2935], [256, 3, 75, 2, 136, 26, 153, 7, 83], [1, 3852, 1448, 43, 260, 421, 1, 2817, 12, 1429, 2796], [1, 13, 308, 17, 346, 1193], [4558, 116, 174, 41, 32, 10], [1, 159, 9, 418, 81, 5, 1729, 1413], [380, 302, 581, 36, 4, 55, 279, 64], [1, 1068, 4, 508, 177, 8, 112, 1069, 38, 60, 72, 5, 942, 1070], [4, 10, 1112, 2, 205, 89, 32, 1, 145, 130, 1, 120], [60, 7, 2566, 11, 1310, 8, 14, 91, 8, 9, 16, 2567], [1, 270, 20, 2434, 318], [28, 19, 10, 154], [3, 15, 113, 41, 11, 8, 61, 1176, 477, 31], [25, 1, 108, 1040, 8, 9, 185, 40, 124, 456], [376, 3, 50, 131, 54, 686], [7, 14, 1, 52, 1, 3377, 43, 439, 23], [4, 1380, 41, 19, 16, 389, 2, 1078, 47, 200, 115, 2, 86, 2166], [80, 5697, 82, 76, 30, 646], [3, 171, 2, 629, 74, 789, 1, 13, 100, 1, 158], [42, 79, 74, 4011, 12, 165, 829], [1447, 6, 1, 114, 51], [37, 355, 1802, 26, 657], [8, 9, 1, 217, 1269, 442, 7, 15, 282, 1671], [8, 15, 5, 819, 6, 32, 524, 820], [1, 69, 52, 151, 65, 2, 205, 4, 15, 167, 205, 1, 271], [1, 782, 9, 3591, 254, 3024], [19, 10, 224, 60, 42, 118, 2568, 2936], [8, 9, 248, 5, 1020, 295, 11, 7, 107, 8, 96, 72, 794, 1, 1021], [41, 21, 162, 9, 590, 4, 320], [8, 149, 73, 5, 856, 305, 813], [7, 14, 1, 96, 1323, 3, 99, 95], [37, 20, 23, 10], [1, 13, 980, 121, 480], [7, 76, 83, 31, 2, 495, 138, 12, 17, 161], [26, 218, 14, 3716, 2511], [1625, 1210, 3592, 10, 99, 95, 29], [63, 1147, 20, 258, 1, 13, 18], [10, 99, 76, 59, 1335], [10, 498, 87, 12, 1, 359], [303, 11, 2364, 47, 128, 20, 29, 10, 82, 136, 47, 153], [303, 11, 2364, 47, 128, 20, 29, 10, 82, 136, 47, 153], [3, 27, 302, 1, 412, 38, 8, 665, 1, 84, 7, 18], [1, 13, 410, 80, 2, 350, 32, 1, 48], [1, 230, 1028, 34, 315, 138, 70, 1029, 4, 51, 34, 838, 70, 871, 461], [3, 127, 21, 431, 11, 119, 9, 2, 30, 262, 25, 1, 272], [38, 311, 38, 7, 101, 31, 264, 1, 280, 7, 204, 2, 31, 2, 141, 138], [7, 410, 1, 489, 4, 9, 373, 25, 1, 718, 4, 1, 707], [1, 13, 9, 1955], [1, 13, 239, 1444, 4, 1570, 394], [24, 11, 9, 425, 91, 26, 512, 9, 630], [82, 10, 2744, 150, 5, 458], [3, 45, 1714, 8], [38, 3, 302, 1, 231, 112, 2, 601, 835, 4, 861], [10, 181, 16, 338, 8, 14, 40, 891], [47, 128, 20, 1050], [51, 39, 41, 109, 1, 145, 27, 199, 115, 37, 1287, 535, 18, 17, 362], [4, 21, 15, 234, 341, 97, 1662, 155], [4724, 215, 110, 12, 5, 183, 1798, 103], [3, 181, 16, 136, 8, 1841], [3, 166, 1524, 2, 27, 11, 164, 4362, 1386, 12, 31], [24, 28, 14, 41, 37], [21, 281, 32, 2002, 1339, 1914, 4, 1233, 4, 7, 53, 16, 244, 122, 6, 8], [21, 34, 1737, 2, 31, 38, 5, 436, 72, 5, 243, 1, 13, 18], [21, 565, 406, 1, 145, 278, 5, 1980, 4, 22, 56, 203, 2, 405], [7, 310, 1051, 23, 5, 272, 4, 55, 989, 44, 6, 1, 360], [710, 31, 131, 29, 20, 161, 44, 12, 1, 84], [4, 91, 1, 605, 1571, 226, 3, 106, 2, 1, 155, 1496, 1, 48], [131, 14, 1, 69, 5104], [7, 15, 113, 1, 1170, 235, 4, 9, 1171, 11, 5, 539, 1030, 395, 427], [1695, 8, 4012, 1, 1692, 6, 4013], [4, 11, 7, 5, 13, 71, 834, 2477], [8, 543, 16, 1364, 10, 4, 42, 62, 176, 1, 359, 2964], [1, 4363, 14, 75, 2, 2536, 362, 232, 37, 548], [7, 14, 269, 8, 91, 8, 14, 28, 7, 654, 2, 19], [3, 45, 219, 2, 415, 2, 26, 353, 65, 2, 68, 829, 123, 80, 481], [42, 1299, 6085, 5874, 22, 2705, 902, 4, 1166, 6086], [1, 754, 1503, 275, 2066, 4, 41, 11, 67, 7, 15, 2, 1696, 17, 536], [4, 3, 90, 1241, 5, 1198], [11, 14, 63, 5698, 5699], [3, 166, 169, 3378, 35, 64], [4, 1, 156, 4, 508, 15, 59, 1067, 1008, 12, 198, 349], [170, 112, 124, 385], [3, 45, 399, 54, 166, 371, 1772, 2, 127, 54, 15, 16, 1083, 10], [24, 3, 45, 75, 2, 556, 1, 13, 18], [28, 34, 10, 58, 10, 98, 87, 469, 304, 314], [3, 95, 8, 85], [3, 9, 408, 25, 37, 1022, 513], [1221, 98, 4, 106, 22, 1534, 2243, 2244, 22, 2245, 4, 299], [4559, 20, 3276, 24, 715, 4560], [7, 100, 80, 32, 1, 221, 14, 1009], [32, 1048, 3, 312, 85, 2, 26, 232, 12, 1049, 91, 119, 112, 2, 30, 714], [1, 427, 359, 6, 2208, 15, 2209, 814, 137, 790, 4, 579, 15, 347, 123], [7, 14, 3853, 522, 291], [96, 150, 4188, 62, 68, 8], [66, 5, 2329, 146, 88, 8, 2435, 2436, 320, 4, 5, 2437, 39, 1, 226], [29, 34, 403, 12, 1, 1071, 461, 6, 1, 437, 58, 1, 51, 106, 2, 671], [53, 16, 3, 172, 10, 76, 2, 141, 4942, 177, 87], [37, 82, 210, 10, 2330, 2745, 22, 2537, 4, 2746, 2747, 2115, 623, 47, 1550], [24, 3, 866, 127, 11, 8, 851, 122, 387, 839], [24, 1, 194, 158, 15, 56, 1667], [8, 20, 3, 1, 13, 130], [5, 365, 401, 6, 255, 724, 554, 356, 1, 216, 4, 1, 470, 6, 1, 190], [66, 2531, 57, 133, 35, 371, 169], [1, 52, 934, 22, 795], [1, 280, 785, 5, 114, 38, 3, 1000, 26, 103, 115], [141, 12, 175, 74, 67], [3854, 43, 1269], [7, 162, 47, 186, 7, 18], [3, 127, 21, 431, 11, 119, 9, 2, 30, 262, 25, 1, 272], [195, 54, 53, 16, 143, 303, 35], [10, 135, 16, 144, 28, 54, 18, 3593, 10], [46, 28, 19, 10, 79, 6, 31, 1, 159, 83], [65, 183, 186, 19, 10, 68], [1, 230, 1028, 34, 315, 138, 70, 1029, 4, 51, 34, 838, 70, 871, 461], [65, 19, 3, 773, 25, 1, 615], [192, 115, 1, 354, 3, 101, 5, 401, 6, 1059, 345, 4, 1, 114, 494, 231], [6, 492, 1, 92, 34, 631, 2, 19, 147], [19, 16, 224, 1, 2748], [7, 49, 6, 41, 1, 935, 642, 7, 15, 685], [3, 171, 2, 629, 74, 789, 1, 13, 100, 1, 158], [4, 10, 1112, 2, 205, 89, 32, 1, 145, 130, 1, 120], [28, 20, 5, 1474, 269, 87, 83, 178, 6, 1, 125], [4, 55, 7, 431, 8, 124, 274], [29, 14, 11, 3161, 60, 21, 282, 136, 44], [211, 212, 39, 88, 7, 61, 30, 22, 1, 158, 14, 663], [60, 10, 19, 16, 333, 691, 31, 3, 90, 450, 1, 1173], [24, 195, 51, 77, 239, 11, 103, 15, 76, 452, 1, 697, 247], [24, 1, 13, 76, 184, 17, 512, 123, 17, 179, 273], [1319, 73, 32, 522, 304, 5, 482, 23, 10, 767], [196, 106, 81, 1, 340, 306, 2, 852, 1, 454, 2, 762], [1, 97, 535, 9, 5, 2246, 4, 2247, 41, 6, 2248, 22, 17, 776, 1523], [65, 32, 11, 36, 29], [8, 308, 17, 128, 81, 17, 538], [36, 135, 1804, 23, 8], [24, 8, 20, 40, 5, 1704, 11, 9, 2478, 72, 188, 2479, 94, 2480, 2167], [21, 34, 1737, 2, 31, 38, 5, 436, 72, 5, 243, 1, 13, 18], [8, 14, 204, 1, 854, 6, 1224], [5, 52, 215, 16, 68, 12, 5, 1350, 73, 37, 198, 102], [62, 3, 68, 5, 462, 462], [3, 127, 8, 14, 32, 2569, 1585, 24, 88, 3, 62, 78, 65, 11, 191, 30, 2570], [8, 149, 73, 5, 856, 305, 813], [5236, 62, 30, 4189, 72, 5237, 5238, 94, 72, 5239, 12, 1, 5240], [60, 10, 396, 1174, 2, 1, 436, 10, 62, 1324, 429, 8], [60, 7, 282, 249, 2, 398, 57, 21, 61, 2003], [197, 1250, 6, 35], [3, 1332, 26, 2905], [41, 21, 162, 9, 590, 4, 320], [7, 14, 3277, 32, 10], [4, 42, 90, 30, 25, 4943, 14, 594, 64, 1, 542], [3, 19, 16, 50, 104, 165, 110, 27, 2, 30, 2210, 72, 692, 6, 538, 7, 49], [8, 14, 1, 97, 1474, 1, 120], [4, 5, 3431, 1223, 73, 3432], [21, 191, 143, 27, 294, 1034, 24, 1, 120, 1404, 123, 1, 576], [10, 90, 76, 68, 8, 44, 6, 31], [8, 9, 1, 1344, 247, 6, 1, 145], [38, 311, 38, 7, 101, 31, 264, 1, 280, 7, 204, 2, 31, 2, 141, 138], [3, 181, 16, 786, 717], [3, 19, 16, 79, 2, 368, 147, 91, 3, 19, 16, 50, 65, 2, 566, 22, 368], [60, 10, 396, 1174, 2, 1, 436, 10, 62, 1324, 429, 8], [21, 106, 2, 1, 1359, 25, 1, 85, 6, 1, 905], [45, 41, 32, 117, 571, 1306, 1307, 11, 1308, 67, 4, 328], [60, 28, 36, 1648, 20, 133, 6, 1344, 440, 8, 82, 76, 1799], [82, 3, 332, 2, 19, 11, 1258, 1, 13, 83], [1, 51, 82, 599, 1, 299, 4, 79, 2, 374, 1, 553], [2067, 17, 353, 228, 2, 450, 57], [72, 1, 367, 6, 70, 180, 2965, 3, 101, 57, 2966, 4, 287, 4, 70, 2967, 1639, 2, 1133], [38, 7, 53, 46, 7, 1475, 22, 1, 391, 32, 1, 457, 471], [8, 15, 100, 35, 2, 1164, 131, 17, 1150, 222], [7, 53, 136, 8, 311, 173, 480, 4, 40, 260, 39, 1, 156, 473], [6704, 20, 5, 2068, 2684, 2906], [3, 45, 219, 2, 415, 2, 26, 353, 65, 2, 68, 829, 123, 80, 481], [3, 45, 219, 2, 415, 2, 26, 353, 65, 2, 68, 829, 123, 80, 481], [5, 276, 482, 207, 98, 123, 4, 222, 22, 5, 700, 4, 887, 971], [215, 5, 52, 14, 128, 140, 210, 35, 1, 13, 83, 1, 48], [152, 20, 1, 537, 14, 392, 109, 47, 534], [1, 216, 15, 499, 735, 2, 915], [4, 7, 151, 28, 9, 1, 2168, 1504, 23, 198, 36, 6, 17, 589], [164, 1152, 34, 317, 25, 8], [164, 1152, 34, 317, 25, 8], [21, 93, 1343, 2, 150, 40, 2, 265, 64, 4, 2, 468, 33, 747], [8, 9, 5, 1878, 6, 186], [3, 66, 19, 16, 443, 506, 77, 467, 21, 99, 76, 15, 1110, 1111], [380, 100, 35, 126, 11, 7, 15, 113], [7, 174, 5, 1162, 1228, 233, 4, 101, 1, 526, 617, 1229, 484, 63, 1230, 94, 46], [3, 45, 75, 2, 57], [3, 15, 1, 170, 116, 1215, 1251, 14, 1238, 182, 175], [5236, 62, 30, 4189, 72, 5237, 5238, 94, 72, 5239, 12, 1, 5240], [11, 14, 104, 3, 45, 87], [4, 1, 501, 36], [5, 322, 6, 186], [667, 953, 11, 954, 125, 43, 815, 2, 268, 12, 437, 133, 6, 70, 180, 955], [1719, 806, 1, 736, 277, 10, 90, 303, 32, 1, 153], [3, 18, 3, 929, 3, 166, 76, 59, 1335], [21, 281, 32, 2002, 1339, 1914, 4, 1233, 4, 7, 53, 16, 244, 122, 6, 8], [3, 49, 1, 497, 191, 30, 872], [43, 10, 75, 2, 338, 198, 1367, 7, 4190, 10], [29, 9, 5, 284, 29, 264, 1, 261], [5105, 20, 5, 526, 5106, 590], [3, 45, 40, 1439, 147, 1, 13, 130], [1, 134, 2607, 427, 1265, 22, 70, 179, 531, 4, 385, 72, 46, 183, 368], [11, 102, 1, 158, 279, 1, 13, 1763, 2, 889, 1, 1183], [196, 9, 315, 8, 12], [3, 372, 174, 119, 6, 11], [29, 34, 1862, 12, 1, 328], [3, 53, 16, 141, 87, 2, 27, 10, 205, 26, 857, 7, 18, 167, 2438, 419, 141], [3, 27, 2, 3325, 11, 26, 738, 116, 4364, 2999], [8, 523, 6, 888, 5, 3162, 1505, 1406, 12, 163], [117, 1313, 43, 185, 1672, 7, 49], [19, 3, 214, 38, 1375, 38, 10, 19], [24, 3, 45, 3717, 2, 68, 81, 5, 3236], [41, 1, 4561, 4562], [21, 565, 406, 1, 145, 278, 5, 1980, 4, 22, 56, 203, 2, 405], [1, 69, 52, 9, 635, 5, 1362, 168], [37, 221, 3, 107, 5, 1072, 1073, 2, 26, 1074], [10, 308, 5, 179, 381, 81, 26, 194, 230], [1, 906, 6, 305, 98, 44, 430, 150], [26, 224, 583, 33, 1, 1039, 6, 86, 917], [91, 7, 9, 1381, 1, 13, 53, 16, 649], [91, 1, 194, 9, 2206], [21, 93, 96, 133, 6, 1347, 194, 4, 29, 43, 1638, 6, 1347, 2287, 12, 1, 208], [21, 149, 23, 1, 347, 489, 24, 107, 119], [12, 74, 791, 1, 318, 9, 444, 22, 1, 1339, 6, 2289, 2290], [28, 132, 20, 186, 2, 10, 60, 10, 93, 75, 2, 405], [1, 102, 9, 2685, 4, 1, 297, 2249, 17, 134, 12, 1, 349, 6, 1, 159], [523, 6, 5, 2331, 762, 769], [11, 1097, 35, 5, 114], [55, 1, 160, 98, 429, 35, 12, 5, 500], [7, 66, 95, 5, 179, 973, 23, 17, 818], [24, 7, 2004, 1, 1234, 211, 212], [155, 55, 210, 31, 19, 11, 1, 13, 18], [3, 256, 87, 1, 13, 18], [1, 4725, 9, 1673, 2, 1, 3056], [3, 45, 75, 2, 1502, 10, 406, 1, 84, 1, 48, 18], [19, 10, 78, 37], [21, 34, 1325, 668, 12, 345, 22, 526, 2637, 607, 70, 2638], [1, 2907, 20, 846, 2, 170], [11, 14, 7067, 4944, 4, 7068], [8, 9, 5, 329, 73, 164, 25, 1, 270], [7, 249, 2, 733, 33, 89, 2211, 2060], [54, 821, 1, 1363], [8, 9, 248, 5, 1020, 295, 11, 7, 107, 8, 96, 72, 794, 1, 1021], [1, 961, 34, 609, 4, 1, 1765, 310, 25, 1174], [178, 77, 9, 1829, 1, 13, 14, 1327, 107, 1, 482, 6, 225], [380, 302, 581, 36, 4, 55, 279, 64], [3, 76, 101, 2116, 880, 73, 11, 121], [1, 48, 1783, 1, 1246, 39, 1, 245, 4, 441, 8, 1194, 2, 1958], [6, 492, 10, 61, 16, 50], [23, 198, 522, 877, 125, 264, 188, 1395, 10, 82, 2212, 5, 482, 6, 225], [4, 91, 1, 605, 1571, 226, 3, 106, 2, 1, 155, 1496, 1, 48], [91, 88, 7, 151, 131, 17, 153, 9], [19, 10, 27, 122, 1360, 1439, 203, 87, 12, 1, 252], [10, 19, 16, 27, 2, 1241, 147], [3, 45, 75, 2, 171, 8], [3, 27, 1, 186, 3, 171, 2, 374, 26, 134], [3, 1274, 10, 580, 1, 442], [40, 143, 1, 457, 711, 43, 223, 2, 78, 35, 58, 21, 79, 2], [24, 11, 9, 425, 91, 26, 512, 9, 630], [1, 13, 53, 16, 50, 28, 2, 154], [38, 7, 9, 764, 7, 101, 12, 1, 1391, 6, 1, 351, 17, 69, 297, 14, 363], [20, 29, 5, 1275, 3094], [3, 79, 10, 2, 210, 31, 698, 372, 81, 1, 148, 1, 13, 130], [10, 151, 1, 586, 386], [195, 42, 166, 169, 350, 409, 1, 13, 1438], [7, 174, 5, 1162, 1228, 233, 4, 101, 1, 526, 617, 1229, 484, 63, 1230, 94, 46], [1, 391, 485, 58, 7, 101, 31, 141, 85, 12, 2397], [10, 2432, 117, 1184, 22, 1, 103, 10, 149, 25, 57, 7, 18], [10, 916, 428, 197, 37, 514], [1, 241, 675, 1, 1766, 4, 1, 320, 2005], [28, 1784, 61, 3, 1599], [37, 1616, 227, 1551, 155, 60, 10, 79, 2, 5536, 5, 2836, 6705, 33, 461, 4191, 6706], [91, 23, 35, 10, 43, 5, 402, 1396, 39, 300, 7, 140, 2213, 22, 809], [1489, 39, 26, 180, 1041, 38, 5, 2069, 6, 1897, 4, 1879, 3, 1365, 2070, 2071, 11, 2072, 2073, 576], [8, 9, 96, 58, 3, 95, 37, 600, 2, 8, 11, 1, 1158, 6, 8, 9, 25, 41, 1159, 2, 31], [24, 1, 13, 71, 16, 143, 326], [2876, 184, 5, 271, 39, 1, 3379], [3, 171, 10, 2, 30, 1099, 7, 83, 31, 44, 2, 516, 516], [8, 9, 947, 488, 22, 948, 949, 4, 869, 950, 39, 1, 648, 494], [1, 2538, 15, 59, 325, 25, 2539, 23, 74, 67, 493, 23, 1, 471, 2, 259], [275, 55, 7, 15, 2608, 1, 187, 2, 30, 110, 6, 37, 145], [667, 953, 11, 954, 125, 43, 815, 2, 268, 12, 437, 133, 6, 70, 180, 955], [11, 14, 28, 888, 8, 4014], [1, 2291, 3504, 485, 3505], [10, 93, 486, 47, 3594, 12, 225], [1, 3278, 43, 105, 283], [24, 472, 57, 2, 374, 47, 684], [1, 2481, 1102, 760], [3, 127, 21, 431, 11, 119, 9, 2, 30, 262, 25, 1, 272], [91, 3, 99, 140, 174, 32, 57, 1, 13, 130, 547, 119, 32, 17, 182], [11, 1097, 35, 5, 114], [1, 92, 125, 689, 85, 4, 107, 1, 190, 105, 666, 12, 1, 189, 650], [27, 10, 95, 5, 2768], [1, 457, 711, 82, 1741, 28, 10, 19], [1, 355, 49, 7, 9, 5, 1153, 25, 276, 4, 133, 63, 1154, 757, 2, 333, 35], [413, 9, 619, 1146, 94, 1212, 25, 1, 1213, 22, 5, 365, 1214, 233], [1, 5241, 5242, 990, 23, 491], [8, 9, 5, 5, 612, 6, 1681, 11, 2797, 26, 2398], [192, 138, 25, 1, 2365, 7, 610, 1, 13, 101, 11, 1, 1697, 9, 448], [419, 174, 11, 1, 13, 433, 143, 89, 708, 12, 416], [25, 1, 108, 1040, 8, 9, 185, 40, 124, 456], [4, 42, 90, 30, 25, 4943, 14, 594, 64, 1, 542], [7, 1127, 409, 2, 263, 2, 46, 38, 2, 1085, 568, 32, 1, 1545, 6, 226], [8, 14, 1, 270, 18, 1, 253, 319], [3, 106, 1057, 26, 902, 1058, 4, 381, 26, 103, 12, 1, 720], [3, 62, 415, 60, 10, 90, 66, 407], [21, 93, 40, 26, 134, 1580, 7, 18, 2, 163, 278, 2039], [8, 14, 40, 5, 1367], [8, 9, 1117, 4, 3, 651, 1, 1118, 6, 1, 1119, 2, 80], [15, 188, 952, 988, 8, 42, 191, 27, 59, 223, 2, 78, 1, 632, 103, 85, 58], [236, 802, 199, 115, 26, 224], [56, 36, 940, 122, 1174, 2, 1, 92, 1234], [7, 83, 8, 786, 76, 2, 333, 677, 2, 35], [155, 55, 104, 19, 42, 171, 41, 165, 327, 1, 13, 83], [66, 38, 5, 803, 6, 6707], [3, 185, 53, 8, 591, 4015], [4, 214, 65, 164, 110, 1, 148, 167, 151, 65, 2, 19], [68, 31, 3718, 3163], [7, 9, 783, 6, 163], [51, 301, 2, 141, 4, 118, 39, 1, 796, 14, 230], [1, 160, 679, 9, 254, 727, 721, 12, 156], [10, 288, 2, 5, 853, 6, 728, 799, 81, 1, 252], [58, 3, 45, 1255, 11, 14, 41, 3, 127, 32], [23, 25, 11, 67, 8, 15, 40, 1075, 2, 35, 11, 8, 191, 30, 1151], [3, 929, 10, 166, 389, 32, 150], [1, 111, 9, 681, 4, 3, 9, 897], [1, 271, 11, 217, 708, 1, 13, 100, 1, 496, 6, 1, 1497, 620], [43, 10, 1042, 1, 13, 83, 1, 48, 58, 21, 15, 336, 33], [11, 14, 104, 3, 468, 3000], [26, 5413, 116, 2006, 183, 1328, 435], [3, 45, 334, 32, 1, 867, 4, 2877], [59, 3057, 31, 12, 47, 383], [1, 417, 1552, 1, 339, 39, 1, 13, 14, 1293, 4, 1, 13, 239, 812, 655], [54, 76, 3434, 64], [1, 13, 9, 655], [39, 1, 340, 306, 12, 1, 328, 98, 1, 233, 6, 1100, 1106, 4, 1107], [26, 1035, 291, 396, 23, 117, 823, 622, 1036], [189, 103, 10, 53], [1, 13, 310, 64, 2482, 4, 149, 237, 89, 25, 1, 266], [28, 20, 152, 1, 84, 83], [264, 165, 51, 34, 5, 716, 6, 991, 5, 763, 3, 907, 423, 4, 5, 241, 627, 5, 611], [3, 79, 117, 3058], [3, 99, 140, 162, 2, 19, 37], [42, 27, 227, 626, 2683, 1, 1545, 6, 1342, 85, 2, 2795], [11, 52, 20, 2476], [217, 541, 43, 89, 94, 414, 1043], [24, 1, 48, 301, 2, 214, 2, 1, 738], [10, 82, 76, 3196], [10, 972, 3059, 1915, 2, 4563, 2817, 2007], [24, 7, 499, 53, 16, 2483, 11, 63, 1147, 2484, 1, 270], [3, 45, 777, 168, 183], [8, 193, 5, 1018, 1019, 11, 922, 23, 74, 923], [4, 7, 100, 28, 7, 15, 113], [1, 299, 112, 414, 1266], [15, 188, 952, 988, 8, 42, 191, 27, 59, 223, 2, 78, 1, 632, 103, 85, 58], [40, 2, 774, 18, 1, 48], [974, 37, 277, 42, 107, 5, 185, 1210, 203, 478, 26, 490, 4, 42, 336, 12, 770], [24, 11, 9, 425, 91, 26, 512, 9, 630], [1, 13, 1842, 63, 649, 11, 1298, 35, 2, 1085, 1261, 2, 80, 772], [77, 20, 47, 273, 1, 641, 83], [92, 212, 314, 10, 18, 11, 3, 15, 76, 2169, 6, 384, 1, 158, 130], [45, 41, 32, 117, 571, 1306, 1307, 11, 1308, 67, 4, 328], [7, 1572, 23, 5, 272, 2, 78, 60, 1, 206, 151, 28, 1, 2513, 266, 34], [476, 20, 5, 322, 1640, 142, 137, 1, 266], [11, 111, 7, 100, 41, 6, 37, 2, 1, 48], [1, 847, 9, 33, 245, 4, 10, 71, 78, 5, 365, 345, 246, 868, 64, 274], [39, 29, 7, 71, 78, 434, 12, 1, 328], [15, 188, 952, 988, 8, 42, 191, 27, 59, 223, 2, 78, 1, 632, 103, 85, 58], [1, 48, 1739, 1, 401, 12, 1, 156, 4, 1, 1001, 2008, 142, 264, 1, 1120], [3, 171, 10, 2, 30, 1099, 7, 83, 31, 44, 2, 516, 516], [3, 45, 399, 1, 3095, 14, 33, 150], [997, 20, 40, 26, 769, 24, 937, 946, 82, 251], [1, 13, 267, 1, 261, 12, 17, 363], [1, 818, 593, 9, 5, 1197], [1, 148, 157, 2, 565, 175], [10, 181, 16, 118, 122, 1640, 36, 6, 57, 18], [4, 28, 5, 103, 2, 2485], [1, 847, 9, 33, 245, 4, 10, 71, 78, 5, 365, 345, 246, 868, 64, 274], [3, 45, 1, 243, 6, 664, 1, 69, 52, 15, 18], [4, 333, 3380, 11, 13], [55, 7, 418, 2, 1, 13], [23, 3719, 8, 20, 449, 11, 21, 62, 443, 70, 4564, 1659], [155, 104, 19, 16, 10, 118, 2, 476, 88, 83, 1, 13], [1, 391, 9, 592], [4, 1, 156, 4, 508, 15, 59, 1067, 1008, 12, 198, 349], [42, 19, 16, 50, 58, 1, 226, 82, 259, 46, 42, 181, 16, 509, 188, 910, 7, 18], [181, 16, 10, 205, 31], [41, 110, 43, 36, 1, 13, 49], [19, 16, 172, 31, 28, 2, 19], [1, 670, 20, 11, 21, 19, 16, 143, 618, 11, 21, 93, 1189, 5, 179, 366, 198, 102], [11, 14, 28, 3, 45, 75, 2, 19], [7, 9, 1382, 4, 9, 627, 5, 330, 2009], [82, 10, 265, 31, 117, 3058], [3, 193, 80, 658, 177, 1, 1941, 3237], [7, 15, 59, 2, 1, 1287, 96, 237, 1, 277, 121], [551, 6, 28, 1, 69, 52, 9, 547, 133, 183, 781, 2, 1, 13], [36, 102, 1, 208, 157, 2, 1385, 4, 1, 2062, 2063, 86, 2064], [1425, 1, 160, 1259, 36, 71, 136, 5, 1623, 22, 17, 1041, 6, 1, 272], [7, 15, 324, 12, 2000, 2, 2036, 5, 2037, 22, 63, 48], [214, 25, 117, 4016], [1, 159, 49, 23, 5, 458], [46, 7, 71, 40, 30, 1959, 558, 595], [7, 66, 95, 5, 179, 973, 23, 17, 818], [3, 82, 30, 85, 311], [42, 93, 2214, 39, 1, 457, 471, 4, 42, 171, 186, 1, 97, 1573, 18], [1275, 2968, 215, 16, 619], [4365, 19, 16, 591, 50, 28, 2, 154], [7, 9, 385, 4, 25, 1, 189, 67, 1265, 195, 1, 241, 15, 167, 646, 35], [3, 49, 10, 34, 3595, 31], [11, 7, 162, 2, 384], [1981, 11, 8, 215, 27, 3435, 2969, 23, 2134, 3025, 2660, 3, 136, 8, 215, 16, 202, 124, 155], [1, 927, 245, 15, 59, 609], [29, 43, 775, 1490, 5243, 6, 3197, 25, 37, 305, 306], [3, 95, 1586, 1573, 74, 103, 44, 6, 37, 160], [8, 1426, 5, 2486, 6, 1178], [37, 3279, 6, 4192, 3326, 20, 423, 204, 1581], [19, 16, 10, 50, 29, 14, 5, 226, 33], [55, 1, 160, 98, 429, 35, 12, 5, 500], [1, 125, 222, 81, 63, 1898, 2010], [1, 13, 9, 1820, 22, 369, 24, 1, 48, 694, 35, 44, 6, 1, 329], [1, 280, 785, 5, 114, 38, 3, 1000, 26, 103, 115], [41, 1, 1352, 7, 15, 113, 11, 221, 15, 207, 1177], [3, 27, 16, 59, 223, 2, 4945, 35, 588], [3, 45, 399, 3, 191, 27, 4366, 1, 3060, 5, 114, 22, 26, 3020, 3096, 4367], [3, 106, 1057, 26, 902, 1058, 4, 381, 26, 103, 12, 1, 720], [1, 536, 15, 5, 1692, 4, 46, 53, 1, 13], [77, 100, 10, 11, 83, 1, 13, 1498], [7, 249, 2, 811, 1, 111, 29], [26, 362, 1270, 80, 5, 587], [8, 9, 4193, 11, 2609, 10, 1916, 198, 102], [178, 2332, 18, 1, 1455, 1617, 2, 17, 2366, 1311, 1, 13, 696, 142], [170, 112, 124, 385], [3, 1715, 12, 2, 822, 4726], [11, 14, 1, 52, 77, 344, 41, 1, 1611, 6, 1, 145, 54, 18], [20, 1, 1705, 169], [7, 515, 1, 339], [11, 206, 20, 750, 428, 30, 33, 11, 2661], [3, 841, 3, 15, 5, 367, 2, 246, 72], [8, 9, 248, 5, 1020, 295, 11, 7, 107, 8, 96, 72, 794, 1, 1021], [7, 1821, 63, 188, 362, 1440], [29, 34, 185, 3, 127, 92, 94, 211, 242, 51, 1002, 36, 178], [4, 87, 14, 5, 2749, 23, 10], [77, 821, 11, 1368, 23, 10], [822, 11, 23, 1, 3596], [21, 441, 123, 283, 960, 81, 1, 316], [74, 106, 142, 240, 3, 9, 29, 4, 97, 51, 98], [3, 19, 16, 73, 4194, 2937], [21, 281, 32, 2002, 1339, 1914, 4, 1233, 4, 7, 53, 16, 244, 122, 6, 8], [4, 1, 1223, 2610, 1314, 2611, 25, 1, 2612, 6, 1, 1300], [29, 43, 46, 164, 110, 2, 332], [286, 8, 9, 5, 114, 168, 276, 23, 1136], [11, 111, 29, 9, 178, 1108, 44, 6, 305, 39, 1, 659, 231], [1, 1582, 220, 2, 30, 3855, 22, 74, 1165, 6, 3856, 3857], [914, 344, 65, 183, 5537, 1, 1917, 116, 12, 86, 5538], [8, 14, 1, 3720, 11, 4946, 170, 14, 3026], [21, 149, 23, 1, 347, 489, 24, 107, 119], [5, 701, 6, 525, 377, 62, 30, 113, 12, 1, 453], [195, 37, 20, 63, 975, 18, 1, 120, 464, 1830], [10, 93, 1, 36, 77, 307, 405, 1, 48, 18], [29, 9, 602, 122, 295, 39, 1, 360], [55, 5, 52, 410], [858, 11, 29, 9, 5, 898, 6, 899], [4, 19, 16, 389, 1, 247, 6, 187], [195, 11, 14, 104, 21, 140, 604, 600, 2, 31], [3, 45, 63, 48, 425, 91, 3, 45, 63, 48, 7, 18, 38, 7, 584, 1, 1456], [1918, 14, 1698, 744, 1599, 26, 2769, 54, 18], [21, 34, 400, 503, 23, 5, 67, 1017, 1, 645, 4, 1, 2534], [1, 69, 52, 2439, 115, 1, 271, 4, 222, 2, 643, 5, 1467, 7, 98, 2], [3, 317, 44, 335, 5, 255, 1037, 6, 367], [4, 7, 9, 16, 992, 183, 169], [1, 51, 82, 599, 1, 299, 4, 79, 2, 374, 1, 553], [1102, 4, 2170, 7, 1960, 11, 7, 61, 696, 115, 1, 1515, 1331, 6, 790], [1, 1009, 9, 109], [41, 3, 101, 9, 63, 1147, 18, 1, 13], [11, 9, 16, 25, 41, 2878], [3, 9, 705, 24, 981, 56, 67, 12, 75, 44, 4, 882, 1, 695, 2, 1, 156, 473], [58, 7, 2215, 8, 9, 22, 5, 296, 298, 668, 12, 1166, 4, 225], [34, 21, 2815, 94, 34, 21, 6373], [1, 457, 711, 82, 1741, 28, 10, 19], [25, 1491, 54, 344, 65, 2, 3858, 25, 5539], [24, 29, 9, 129, 29, 12, 17, 128, 11, 61, 16, 2011, 35, 2, 19, 46], [1, 13, 101, 5, 52, 824, 421, 1, 1880], [24, 126, 11, 1103, 1200, 82, 1587, 251, 5, 968, 67], [2333, 37, 20, 28, 47, 535, 18, 1538, 1, 1155, 100, 1, 52], [24, 11, 9, 425, 91, 26, 512, 9, 630], [79, 2, 50, 28, 8, 20], [60, 132, 110, 43, 258, 21, 82, 30, 5, 1449, 1197, 18, 1, 1506], [65, 43, 10, 269, 435], [10, 139, 78, 1, 97, 355, 982, 65, 132, 25, 747, 7, 20], [60, 8, 61, 822, 5, 206, 14, 161], [7, 53, 16, 79, 122, 576, 25, 37, 288], [21, 34, 41, 4727, 58, 1, 4728, 2837], [8, 140, 3597, 2, 30, 1156, 129, 179, 4, 456], [131, 43, 10, 2171, 83, 1, 296, 298], [25, 11, 67, 8, 9, 591, 483, 12, 26, 180, 224, 11, 1, 160, 15, 141, 39, 1, 231, 335], [3, 45, 379, 44, 6, 87, 4, 10, 181, 16, 333, 31], [3, 45, 40, 399, 6, 2487], [129, 1103, 87, 10, 90, 27, 2, 303, 634, 33], [7, 313, 33, 5, 560, 4, 1298, 163, 2, 294, 2059, 72, 1, 738], [122, 2908, 286, 33, 65, 7, 95, 44], [21, 93, 40, 23, 1574, 7, 18], [1, 1699, 983, 1, 218, 1397, 1, 776, 241, 281, 6, 1, 1699, 22, 1899], [224, 60, 3, 495, 138], [1, 13, 301, 2, 407, 2, 17, 128, 38, 21, 665, 1, 84], [7, 15, 1315, 2172, 507, 4, 2662], [1088, 6374, 20, 1, 2750, 1137, 6, 5, 2854, 6375], [1, 3721, 139, 30, 1782, 12, 5, 89, 3164, 4, 1785, 4017], [667, 953, 11, 954, 125, 43, 815, 2, 268, 12, 437, 133, 6, 70, 180, 955], [3, 45, 75, 2, 1600, 64, 33, 11, 146, 142], [3722, 3, 90, 76, 27, 178, 1248, 2, 68, 2, 1, 266, 12, 556], [3, 174, 5, 1044, 1142, 233, 39, 1, 360], [1163, 23, 1, 182], [8, 9, 3506, 25, 86, 3507], [41, 110, 43, 36], [6, 492, 1, 92, 34, 631, 2, 19, 147], [3, 171, 10, 2, 30, 1099, 7, 83, 31, 44, 2, 516, 516], [65, 32, 237, 89, 177, 1, 1730]]\n",
            "[[30, 1666, 22, 47, 1877, 18, 1, 417], [55, 104, 139, 21, 30, 373, 58, 21, 78, 36], [5, 296, 298, 227, 1971, 138, 22, 1803, 748, 4, 2510, 1, 120], [3, 49, 11, 126, 3, 2145, 61, 30, 1889], [7, 336, 32, 571, 24, 170, 71, 361, 35], [24, 126, 15, 744], [43, 10, 376, 37, 20, 3228], [8, 15, 100, 35, 2, 1164, 131, 17, 1150, 222], [1, 230, 1028, 34, 315, 138, 70, 1029, 4, 51, 34, 838, 70, 871, 461], [1, 3259, 49, 11, 7, 166, 792, 163, 41, 7, 71], [1, 13, 1702, 1193, 2, 1, 241, 4, 58, 54, 729, 7, 53, 1, 189], [10, 27, 16, 113, 147, 286], [24, 3, 107, 8, 343, 2, 68, 2, 202, 91, 6, 1, 864], [12, 117, 212, 124, 209, 6, 1, 51, 15, 122, 213, 32, 1077], [58, 3, 45, 1255, 11, 14, 41, 3, 127, 32], [95, 147, 179, 33, 1, 658], [20, 11, 28, 10, 79, 31, 2, 172, 4815], [36, 6, 150, 20, 75, 2, 1761], [2, 1482, 1, 537], [37, 2020, 14, 750, 428, 2261, 2516], [258, 232, 5, 593, 6, 849, 199, 150, 855, 4, 550, 672], [250, 5536, 63, 1767, 11, 888, 8, 941, 2, 2863, 4715, 2976, 2198], [1, 13, 15, 422, 1, 48], [8, 9, 1117, 4, 3, 651, 1, 1118, 6, 1, 1119, 2, 80], [46, 10, 543, 16, 1619, 80], [24, 11, 14, 104, 10, 1734, 1, 809, 12, 1, 108, 203, 1, 13, 130], [19, 16, 154, 11, 175], [7, 15, 113, 1, 1170, 235, 4, 9, 1171, 11, 5, 539, 1030, 395, 427], [8, 418, 44, 2, 30, 5, 1266, 299], [43, 10, 750, 428, 780, 5, 1347], [264, 165, 51, 34, 5, 716, 6, 991, 5, 763, 3, 907, 423, 4, 5, 241, 627, 5, 611], [26, 1035, 291, 396, 23, 117, 823, 622, 1036], [21, 149, 23, 1, 347, 489, 24, 107, 119], [3, 9, 66, 12, 323, 974, 37, 277, 46, 8, 20, 612, 6, 1042, 2, 127, 32, 28, 184, 203, 146, 173], [3, 79, 2, 78, 11, 2881, 444, 121, 42, 68, 115], [8, 133, 31, 124, 2504], [86, 449, 2, 468, 63, 846, 224, 4, 54, 116, 2249, 31, 2, 19, 1, 189], [557, 14, 12, 1, 1062], [39, 37, 6005, 10, 62, 78, 1, 6006, 5215], [7, 135, 30, 2012, 2, 1085, 2013, 22, 1399], [380, 302, 581, 36, 4, 55, 279, 64], [3, 19, 16, 50, 131, 2, 118], [17, 1368, 1618, 12, 1291, 5470], [12, 5, 103, 46, 256, 3, 7, 18], [58, 1, 159, 2503, 1, 125, 82, 237, 175, 2352, 70, 1566, 2, 31], [3, 9, 705, 24, 981, 56, 67, 12, 75, 44, 4, 882, 1, 695, 2, 1, 156, 473], [42, 135, 30, 132], [7, 254, 157, 2, 172, 32, 17, 153, 24, 249, 40, 2, 19, 46], [40, 143, 1, 457, 711, 43, 223, 2, 78, 35, 58, 21, 79, 2], [104, 53, 16, 10, 172, 31], [21, 71, 1957, 78, 1, 13], [188, 6017, 116, 59, 6587, 72, 6588, 377, 6589, 2996], [7, 1127, 409, 2, 263, 2, 46, 38, 2, 1085, 568, 32, 1, 1545, 6, 226], [254, 170, 87, 1079, 507], [1, 2422, 9, 3304, 3649], [56, 36, 2582, 63, 270], [131, 14, 1, 69, 5104], [121, 893, 34, 909, 749, 15, 2, 780, 970, 25, 341, 97, 4, 60, 5, 894, 474, 10, 10, 15, 2, 495, 44, 275, 1, 250, 226], [8, 9, 1, 67, 6, 102, 58, 41, 6, 2363, 1244, 806, 1, 1839], [29, 34, 1862, 12, 1, 328], [2744, 10, 23, 28], [572, 3, 998, 1835, 23, 1, 2954, 527], [3, 90, 118, 146, 173, 8], [66, 176, 5081, 25, 232], [4, 10, 99, 100, 31, 32, 187], [131, 9, 17, 346], [8, 9, 1060, 358, 40, 5, 730, 12, 1, 375, 558, 5, 1061, 6, 148], [5471, 1, 2836, 5472, 62, 30, 67, 5473], [60, 11, 355, 3618, 63, 1926], [1, 4052, 2977, 15, 59, 3209], [1098, 26, 182, 6, 778, 5, 1104, 1105, 307, 76, 251], [77, 19, 10, 127, 2893, 57], [3, 45, 3369, 60, 10, 93, 3369, 32, 8], [1, 3852, 1448, 43, 260, 421, 1, 2817, 12, 1429, 2796], [3, 90, 30, 85, 12, 5, 458], [1686, 3559, 1405, 31], [5, 276, 482, 207, 98, 123, 4, 222, 22, 5, 700, 4, 887, 971], [8, 193, 5, 1018, 1019, 11, 922, 23, 74, 923], [1, 3031, 1361, 2, 73, 3168], [4, 451, 1, 537, 292, 22, 70, 1456], [92, 89, 1143, 199, 4, 1, 1688, 308, 164, 2055, 81, 1, 194, 230], [7, 5507, 1, 442, 4, 157, 2, 5508, 1, 5509, 386, 7, 15, 59, 100], [25, 1491, 54, 344, 65, 2, 3858, 25, 5539], [214, 25, 1, 2852, 3, 279, 35], [55, 3, 19, 16, 68, 940], [3, 95, 92, 1746, 2389, 2829, 33, 26, 146, 2102, 39, 501, 111, 4, 21, 1364], [24, 21, 185, 19, 16, 50, 28, 21, 93, 547], [4, 227, 72, 1796, 1486, 4, 1797], [74, 6, 1, 1032, 920, 9, 287, 123, 1, 1010, 656], [1, 417, 112, 1851, 22, 1, 649], [3, 19, 16, 673, 28, 10, 1250, 57, 22], [28, 9, 41, 11], [8, 9, 1, 108, 67, 54, 15, 262, 11], [8, 9, 947, 488, 22, 948, 949, 4, 869, 950, 39, 1, 648, 494], [42, 181, 16, 144, 1, 2382, 68, 1, 1748, 33, 150], [10, 93, 260, 168, 2870], [21, 567, 1387, 770, 715, 24, 972, 185, 263, 514, 1, 490], [5, 464, 5, 4594], [2067, 17, 353, 228, 2, 450, 57], [8, 20, 5379, 2, 801, 25, 1491, 92, 6009, 6, 320, 5, 102]]\n"
          ]
        }
      ]
    },
    {
      "cell_type": "markdown",
      "source": [
        "## Feature Engineering"
      ],
      "metadata": {
        "id": "FklktaKffPnh"
      }
    },
    {
      "cell_type": "code",
      "source": [
        "import librosa\n",
        "\n",
        "# Contoh ekstraksi fitur MFCC dari file audio\n",
        "def extract_mfcc(file_path):\n",
        "    y, sr = librosa.load(file_path, sr=None)\n",
        "    mfccs = librosa.feature.mfcc(y=y, sr=sr, n_mfcc=13)\n",
        "    return mfccs\n",
        "\n",
        "# Gunakan fungsi di atas untuk menghasilkan fitur dari file audio\n",
        "file_path_example = '/content/common-voice/cv-valid-train/cv-valid-train/sample-000000.mp3'\n",
        "mfcc_example = extract_mfcc(file_path_example)\n",
        "\n",
        "# Periksa bentuk fitur yang dihasilkan\n",
        "print(\"MFCC Shape:\", mfcc_example.shape)"
      ],
      "metadata": {
        "id": "zbrpQX_yfRHi",
        "colab": {
          "base_uri": "https://localhost:8080/"
        },
        "outputId": "05719a6c-9d3d-4891-ebd4-52bc3d087b43"
      },
      "execution_count": 131,
      "outputs": [
        {
          "output_type": "stream",
          "name": "stdout",
          "text": [
            "MFCC Shape: (13, 385)\n"
          ]
        }
      ]
    },
    {
      "cell_type": "code",
      "source": [
        "audio_path_train = '/content/common-voice/cv-valid-train/'\n",
        "audio_path_val = '/content/common-voice/cv-valid-dev/'\n",
        "\n",
        "sample_size_train = 1000\n",
        "sample_size_val = 100\n",
        "\n",
        "# Menangani dimensi yang berbeda\n",
        "features_train = [extract_mfcc(audio_path_train + file) for file in data_train['filename'][:sample_size_train]]\n",
        "features_val = [extract_mfcc(audio_path_val + file) for file in data_val['filename'][:sample_size_val]]\n",
        "\n",
        "# Menyesuaikan dimensi agar konsisten\n",
        "max_dim_train = max(feature.shape[1] for feature in features_train)\n",
        "#max_dim_val = max(feature.shape[1] for feature in features_val)\n",
        "\n",
        "features_train_processed = [np.pad(feature, ((0, 0), (0, max_dim_train - feature.shape[1]))) for feature in features_train]\n",
        "features_val_processed = [np.pad(feature, ((0, 0), (0,  max_dim_train - feature.shape[1]))) for feature in features_val]\n",
        "\n",
        "X_train = np.array(features_train_processed)\n",
        "X_val = np.array(features_val_processed)"
      ],
      "metadata": {
        "id": "9nK3v7l5jkMa"
      },
      "execution_count": 107,
      "outputs": []
    },
    {
      "cell_type": "code",
      "source": [
        "print(max_dim_train)"
      ],
      "metadata": {
        "colab": {
          "base_uri": "https://localhost:8080/"
        },
        "id": "IDW-fGMoykq8",
        "outputId": "faefa84a-6be6-4f9f-a3cb-383b7a6015a0"
      },
      "execution_count": 104,
      "outputs": [
        {
          "output_type": "stream",
          "name": "stdout",
          "text": [
            "1110\n"
          ]
        }
      ]
    },
    {
      "cell_type": "code",
      "source": [
        "print(X_train.shape)\n",
        "print(X_val.shape)"
      ],
      "metadata": {
        "colab": {
          "base_uri": "https://localhost:8080/"
        },
        "id": "7gfSts4DvjVx",
        "outputId": "15efd45f-195a-45c0-fb64-4d33bab1d21c"
      },
      "execution_count": 119,
      "outputs": [
        {
          "output_type": "stream",
          "name": "stdout",
          "text": [
            "(1000, 13, 1110)\n",
            "(100, 13, 1110)\n"
          ]
        }
      ]
    },
    {
      "cell_type": "code",
      "source": [
        "from tensorflow.keras.preprocessing.sequence import pad_sequences\n",
        "\n",
        "# Konversi setiap sampel menjadi one-hot encoding\n",
        "y_train = pad_sequences(X_train_sequence, padding='post')\n",
        "y_val = pad_sequences(X_val_sequence, padding='post')\n",
        "\n",
        "# Konversi ke one-hot encoding menggunakan to_categorical\n",
        "y_train = np.array([to_categorical(seq, num_classes=len(tokenizer.word_index) + 1) for seq in y_train])\n",
        "y_val = np.array([to_categorical(seq, num_classes=len(tokenizer.word_index) + 1) for seq in y_val])"
      ],
      "metadata": {
        "id": "iGE2uSgep3kG"
      },
      "execution_count": 120,
      "outputs": []
    },
    {
      "cell_type": "code",
      "source": [
        "model = tf.keras.models.Sequential()\n",
        "\n",
        "# Lapisan Konvolusi dan Pooling\n",
        "model.add(tf.keras.layers.Conv2D(32, kernel_size=(3, 3), activation='relu', input_shape=(13, max_dim_train, 1)))\n",
        "model.add(tf.keras.layers.MaxPooling2D(pool_size=(2, 2)))\n",
        "model.add(tf.keras.layers.Conv2D(64, kernel_size=(3, 3), activation='relu'))\n",
        "model.add(tf.keras.layers.MaxPooling2D(pool_size=(2, 2)))\n",
        "\n",
        "# Lapisan Flatten dan Dense\n",
        "model.add(tf.keras.layers.Flatten())\n",
        "model.add(tf.keras.layers.Dense(128, activation='relu'))\n",
        "model.add(tf.keras.layers.Dropout(0.3))\n",
        "\n",
        "# Lapisan Output\n",
        "num_classes = len(tokenizer.word_index) + 1\n",
        "model.add(tf.keras.layers.Dense(num_classes, activation='softmax'))\n",
        "\n",
        "model.summary()"
      ],
      "metadata": {
        "colab": {
          "base_uri": "https://localhost:8080/"
        },
        "id": "bQTEOZTImD-V",
        "outputId": "e9c53ad2-dac1-4dea-b86c-a415c47f83d0"
      },
      "execution_count": 121,
      "outputs": [
        {
          "output_type": "stream",
          "name": "stdout",
          "text": [
            "Model: \"sequential_19\"\n",
            "_________________________________________________________________\n",
            " Layer (type)                Output Shape              Param #   \n",
            "=================================================================\n",
            " conv2d_27 (Conv2D)          (None, 11, 1108, 32)      320       \n",
            "                                                                 \n",
            " max_pooling2d_26 (MaxPooli  (None, 5, 554, 32)        0         \n",
            " ng2D)                                                           \n",
            "                                                                 \n",
            " conv2d_28 (Conv2D)          (None, 3, 552, 64)        18496     \n",
            "                                                                 \n",
            " max_pooling2d_27 (MaxPooli  (None, 1, 276, 64)        0         \n",
            " ng2D)                                                           \n",
            "                                                                 \n",
            " flatten_18 (Flatten)        (None, 17664)             0         \n",
            "                                                                 \n",
            " dense_27 (Dense)            (None, 128)               2261120   \n",
            "                                                                 \n",
            " dropout_10 (Dropout)        (None, 128)               0         \n",
            "                                                                 \n",
            " dense_28 (Dense)            (None, 7844)              1011876   \n",
            "                                                                 \n",
            "=================================================================\n",
            "Total params: 3291812 (12.56 MB)\n",
            "Trainable params: 3291812 (12.56 MB)\n",
            "Non-trainable params: 0 (0.00 Byte)\n",
            "_________________________________________________________________\n"
          ]
        }
      ]
    },
    {
      "cell_type": "code",
      "source": [
        "print(y_train.shape)\n",
        "print(y_val.shape)"
      ],
      "metadata": {
        "colab": {
          "base_uri": "https://localhost:8080/"
        },
        "id": "SkVt-3JQsdEo",
        "outputId": "0d66f70c-d1f5-4c17-9baa-217b70547898"
      },
      "execution_count": 114,
      "outputs": [
        {
          "output_type": "stream",
          "name": "stdout",
          "text": [
            "(1000, 27, 7844)\n",
            "(100, 27, 7844)\n"
          ]
        }
      ]
    },
    {
      "cell_type": "code",
      "source": [
        "# Ambil distribusi kelas pada langkah waktu terakhir\n",
        "y_train_last_step = y_train[:, -1, :]\n",
        "y_val_last_step = y_val[:, -1, :]\n",
        "\n",
        "# Pastikan bentuknya sesuai\n",
        "print(\"Shape y_train_last_step:\", y_train_last_step.shape)\n",
        "print(\"Shape y_val_last_step:\", y_val_last_step.shape)"
      ],
      "metadata": {
        "colab": {
          "base_uri": "https://localhost:8080/"
        },
        "id": "AukorGHbsSCM",
        "outputId": "8698fc8e-9a6c-45f6-b33f-200e1f269968"
      },
      "execution_count": 115,
      "outputs": [
        {
          "output_type": "stream",
          "name": "stdout",
          "text": [
            "Shape y_train_last_step: (1000, 7844)\n",
            "Shape y_val_last_step: (100, 7844)\n"
          ]
        }
      ]
    },
    {
      "cell_type": "code",
      "source": [
        "model.compile(loss='categorical_crossentropy',\n",
        "              optimizer='adam',\n",
        "              metrics=['accuracy'])"
      ],
      "metadata": {
        "id": "GTjwkY5Anj5i"
      },
      "execution_count": 122,
      "outputs": []
    },
    {
      "cell_type": "code",
      "source": [
        "model.fit(X_train,\n",
        "          y_train_last_step,\n",
        "          epochs=10,\n",
        "          batch_size=32,\n",
        "          validation_data=(X_val, y_val_last_step))"
      ],
      "metadata": {
        "colab": {
          "base_uri": "https://localhost:8080/"
        },
        "id": "edimO5PwnoOi",
        "outputId": "69b2371b-c87c-472a-8b84-1a7f22b3240f"
      },
      "execution_count": 123,
      "outputs": [
        {
          "output_type": "stream",
          "name": "stdout",
          "text": [
            "Epoch 1/10\n",
            "32/32 [==============================] - 3s 30ms/step - loss: 0.8837 - accuracy: 0.9660 - val_loss: 1.3536 - val_accuracy: 0.9900\n",
            "Epoch 2/10\n",
            "32/32 [==============================] - 1s 16ms/step - loss: 0.0418 - accuracy: 0.9960 - val_loss: 0.5170 - val_accuracy: 0.9900\n",
            "Epoch 3/10\n",
            "32/32 [==============================] - 0s 15ms/step - loss: 0.0456 - accuracy: 0.9980 - val_loss: 0.4162 - val_accuracy: 0.9900\n",
            "Epoch 4/10\n",
            "32/32 [==============================] - 0s 14ms/step - loss: 0.0280 - accuracy: 0.9950 - val_loss: 0.4609 - val_accuracy: 0.9900\n",
            "Epoch 5/10\n",
            "32/32 [==============================] - 0s 13ms/step - loss: 9.9882e-05 - accuracy: 1.0000 - val_loss: 0.6889 - val_accuracy: 0.9900\n",
            "Epoch 6/10\n",
            "32/32 [==============================] - 0s 15ms/step - loss: 2.7207e-06 - accuracy: 1.0000 - val_loss: 0.6892 - val_accuracy: 0.9900\n",
            "Epoch 7/10\n",
            "32/32 [==============================] - 0s 14ms/step - loss: 2.6864e-05 - accuracy: 1.0000 - val_loss: 0.6928 - val_accuracy: 0.9900\n",
            "Epoch 8/10\n",
            "32/32 [==============================] - 0s 14ms/step - loss: 3.2277e-06 - accuracy: 1.0000 - val_loss: 0.6983 - val_accuracy: 0.9900\n",
            "Epoch 9/10\n",
            "32/32 [==============================] - 0s 15ms/step - loss: 7.1558e-07 - accuracy: 1.0000 - val_loss: 0.7004 - val_accuracy: 0.9900\n",
            "Epoch 10/10\n",
            "32/32 [==============================] - 0s 13ms/step - loss: 4.0448e-06 - accuracy: 1.0000 - val_loss: 0.7027 - val_accuracy: 0.9900\n"
          ]
        },
        {
          "output_type": "execute_result",
          "data": {
            "text/plain": [
              "<keras.src.callbacks.History at 0x7a09161ae320>"
            ]
          },
          "metadata": {},
          "execution_count": 123
        }
      ]
    },
    {
      "cell_type": "code",
      "source": [
        "# Simpan model\n",
        "model.save('/content/model_v1.h5')"
      ],
      "metadata": {
        "colab": {
          "base_uri": "https://localhost:8080/"
        },
        "id": "NBI9Ozxc1mhg",
        "outputId": "fbfe4fa5-e74f-4ffe-a611-3b1e205678bd"
      },
      "execution_count": 124,
      "outputs": [
        {
          "output_type": "stream",
          "name": "stderr",
          "text": [
            "/usr/local/lib/python3.10/dist-packages/keras/src/engine/training.py:3079: UserWarning: You are saving your model as an HDF5 file via `model.save()`. This file format is considered legacy. We recommend using instead the native Keras format, e.g. `model.save('my_model.keras')`.\n",
            "  saving_api.save_model(\n"
          ]
        }
      ]
    },
    {
      "cell_type": "markdown",
      "source": [
        "# Model Testing"
      ],
      "metadata": {
        "id": "G8PG_FQnz_52"
      }
    },
    {
      "cell_type": "code",
      "source": [
        "file_path_test = '/content/common-voice/cv-valid-train/cv-valid-train/sample-000000.mp3'\n",
        "mfcc_test = extract_mfcc(file_path_test)"
      ],
      "metadata": {
        "id": "mxKf_Smf0QSU"
      },
      "execution_count": 132,
      "outputs": []
    },
    {
      "cell_type": "code",
      "source": [
        "mfcc_test_processed = np.pad(mfcc_test, ((0, 0), (0, max_dim_train - mfcc_test.shape[1])))\n",
        "\n",
        "# Reshape agar cocok dengan input model\n",
        "mfcc_test_reshaped = np.expand_dims(mfcc_test_processed, axis=-1)"
      ],
      "metadata": {
        "id": "-QvMKFQX3XyK"
      },
      "execution_count": 133,
      "outputs": []
    },
    {
      "cell_type": "code",
      "source": [
        "# Lakukan prediksi\n",
        "predictions = model.predict(np.array([mfcc_test_reshaped]))\n",
        "\n",
        "# Ambil kelas dengan probabilitas tertinggi\n",
        "predicted_class = np.argmax(predictions) + 1\n",
        "\n",
        "# Ambil label dari kelas\n",
        "predicted_label = tokenizer.index_word[predicted_class]\n",
        "print(\"Predicted Label:\", predicted_label)"
      ],
      "metadata": {
        "colab": {
          "base_uri": "https://localhost:8080/"
        },
        "id": "ksBO4mLg3Z21",
        "outputId": "20f67ba7-d400-489d-bec2-3f85113e5211"
      },
      "execution_count": 136,
      "outputs": [
        {
          "output_type": "stream",
          "name": "stdout",
          "text": [
            "1/1 [==============================] - 0s 27ms/step\n",
            "Predicted Label: the\n"
          ]
        }
      ]
    },
    {
      "cell_type": "markdown",
      "source": [
        "# Percobaan 1"
      ],
      "metadata": {
        "id": "QM1ZVXz3nqz1"
      }
    },
    {
      "cell_type": "code",
      "source": [
        "print(tf.__version__)"
      ],
      "metadata": {
        "colab": {
          "base_uri": "https://localhost:8080/"
        },
        "id": "-7PYWSL-gpfm",
        "outputId": "f7f1acb5-8962-4db5-e2a4-df867ca530da"
      },
      "execution_count": null,
      "outputs": [
        {
          "output_type": "stream",
          "name": "stdout",
          "text": [
            "2.14.0\n"
          ]
        }
      ]
    },
    {
      "cell_type": "code",
      "source": [
        "!pip install tensorflow-io[tensorflow]"
      ],
      "metadata": {
        "colab": {
          "base_uri": "https://localhost:8080/",
          "height": 1000
        },
        "id": "zRjo6tiVdDrg",
        "outputId": "0710ae09-6383-4c08-ba46-93d6366c20d5"
      },
      "execution_count": null,
      "outputs": [
        {
          "output_type": "stream",
          "name": "stdout",
          "text": [
            "Collecting tensorflow-io[tensorflow]\n",
            "  Downloading tensorflow_io-0.34.0-cp310-cp310-manylinux_2_12_x86_64.manylinux2010_x86_64.whl (28.8 MB)\n",
            "\u001b[2K     \u001b[90m━━━━━━━━━━━━━━━━━━━━━━━━━━━━━━━━━━━━━━━━\u001b[0m \u001b[32m28.8/28.8 MB\u001b[0m \u001b[31m42.2 MB/s\u001b[0m eta \u001b[36m0:00:00\u001b[0m\n",
            "\u001b[?25hRequirement already satisfied: tensorflow-io-gcs-filesystem==0.34.0 in /usr/local/lib/python3.10/dist-packages (from tensorflow-io[tensorflow]) (0.34.0)\n",
            "Collecting tensorflow<2.14.0,>=2.13.0 (from tensorflow-io[tensorflow])\n",
            "  Downloading tensorflow-2.13.1-cp310-cp310-manylinux_2_17_x86_64.manylinux2014_x86_64.whl (479.7 MB)\n",
            "\u001b[2K     \u001b[90m━━━━━━━━━━━━━━━━━━━━━━━━━━━━━━━━━━━━━━━━\u001b[0m \u001b[32m479.7/479.7 MB\u001b[0m \u001b[31m3.3 MB/s\u001b[0m eta \u001b[36m0:00:00\u001b[0m\n",
            "\u001b[?25hRequirement already satisfied: absl-py>=1.0.0 in /usr/local/lib/python3.10/dist-packages (from tensorflow<2.14.0,>=2.13.0->tensorflow-io[tensorflow]) (1.4.0)\n",
            "Requirement already satisfied: astunparse>=1.6.0 in /usr/local/lib/python3.10/dist-packages (from tensorflow<2.14.0,>=2.13.0->tensorflow-io[tensorflow]) (1.6.3)\n",
            "Requirement already satisfied: flatbuffers>=23.1.21 in /usr/local/lib/python3.10/dist-packages (from tensorflow<2.14.0,>=2.13.0->tensorflow-io[tensorflow]) (23.5.26)\n",
            "Collecting gast<=0.4.0,>=0.2.1 (from tensorflow<2.14.0,>=2.13.0->tensorflow-io[tensorflow])\n",
            "  Downloading gast-0.4.0-py3-none-any.whl (9.8 kB)\n",
            "Requirement already satisfied: google-pasta>=0.1.1 in /usr/local/lib/python3.10/dist-packages (from tensorflow<2.14.0,>=2.13.0->tensorflow-io[tensorflow]) (0.2.0)\n",
            "Requirement already satisfied: grpcio<2.0,>=1.24.3 in /usr/local/lib/python3.10/dist-packages (from tensorflow<2.14.0,>=2.13.0->tensorflow-io[tensorflow]) (1.59.3)\n",
            "Requirement already satisfied: h5py>=2.9.0 in /usr/local/lib/python3.10/dist-packages (from tensorflow<2.14.0,>=2.13.0->tensorflow-io[tensorflow]) (3.9.0)\n",
            "Collecting keras<2.14,>=2.13.1 (from tensorflow<2.14.0,>=2.13.0->tensorflow-io[tensorflow])\n",
            "  Downloading keras-2.13.1-py3-none-any.whl (1.7 MB)\n",
            "\u001b[2K     \u001b[90m━━━━━━━━━━━━━━━━━━━━━━━━━━━━━━━━━━━━━━━━\u001b[0m \u001b[32m1.7/1.7 MB\u001b[0m \u001b[31m93.0 MB/s\u001b[0m eta \u001b[36m0:00:00\u001b[0m\n",
            "\u001b[?25hRequirement already satisfied: libclang>=13.0.0 in /usr/local/lib/python3.10/dist-packages (from tensorflow<2.14.0,>=2.13.0->tensorflow-io[tensorflow]) (16.0.6)\n",
            "Requirement already satisfied: numpy<=1.24.3,>=1.22 in /usr/local/lib/python3.10/dist-packages (from tensorflow<2.14.0,>=2.13.0->tensorflow-io[tensorflow]) (1.23.5)\n",
            "Requirement already satisfied: opt-einsum>=2.3.2 in /usr/local/lib/python3.10/dist-packages (from tensorflow<2.14.0,>=2.13.0->tensorflow-io[tensorflow]) (3.3.0)\n",
            "Requirement already satisfied: packaging in /usr/local/lib/python3.10/dist-packages (from tensorflow<2.14.0,>=2.13.0->tensorflow-io[tensorflow]) (23.2)\n",
            "Requirement already satisfied: protobuf!=4.21.0,!=4.21.1,!=4.21.2,!=4.21.3,!=4.21.4,!=4.21.5,<5.0.0dev,>=3.20.3 in /usr/local/lib/python3.10/dist-packages (from tensorflow<2.14.0,>=2.13.0->tensorflow-io[tensorflow]) (3.20.3)\n",
            "Requirement already satisfied: setuptools in /usr/local/lib/python3.10/dist-packages (from tensorflow<2.14.0,>=2.13.0->tensorflow-io[tensorflow]) (67.7.2)\n",
            "Requirement already satisfied: six>=1.12.0 in /usr/local/lib/python3.10/dist-packages (from tensorflow<2.14.0,>=2.13.0->tensorflow-io[tensorflow]) (1.16.0)\n",
            "Collecting tensorboard<2.14,>=2.13 (from tensorflow<2.14.0,>=2.13.0->tensorflow-io[tensorflow])\n",
            "  Downloading tensorboard-2.13.0-py3-none-any.whl (5.6 MB)\n",
            "\u001b[2K     \u001b[90m━━━━━━━━━━━━━━━━━━━━━━━━━━━━━━━━━━━━━━━━\u001b[0m \u001b[32m5.6/5.6 MB\u001b[0m \u001b[31m112.2 MB/s\u001b[0m eta \u001b[36m0:00:00\u001b[0m\n",
            "\u001b[?25hCollecting tensorflow-estimator<2.14,>=2.13.0 (from tensorflow<2.14.0,>=2.13.0->tensorflow-io[tensorflow])\n",
            "  Downloading tensorflow_estimator-2.13.0-py2.py3-none-any.whl (440 kB)\n",
            "\u001b[2K     \u001b[90m━━━━━━━━━━━━━━━━━━━━━━━━━━━━━━━━━━━━━━━━\u001b[0m \u001b[32m440.8/440.8 kB\u001b[0m \u001b[31m49.3 MB/s\u001b[0m eta \u001b[36m0:00:00\u001b[0m\n",
            "\u001b[?25hRequirement already satisfied: termcolor>=1.1.0 in /usr/local/lib/python3.10/dist-packages (from tensorflow<2.14.0,>=2.13.0->tensorflow-io[tensorflow]) (2.3.0)\n",
            "Requirement already satisfied: typing-extensions<4.6.0,>=3.6.6 in /usr/local/lib/python3.10/dist-packages (from tensorflow<2.14.0,>=2.13.0->tensorflow-io[tensorflow]) (4.5.0)\n",
            "Requirement already satisfied: wrapt>=1.11.0 in /usr/local/lib/python3.10/dist-packages (from tensorflow<2.14.0,>=2.13.0->tensorflow-io[tensorflow]) (1.14.1)\n",
            "Requirement already satisfied: wheel<1.0,>=0.23.0 in /usr/local/lib/python3.10/dist-packages (from astunparse>=1.6.0->tensorflow<2.14.0,>=2.13.0->tensorflow-io[tensorflow]) (0.42.0)\n",
            "Requirement already satisfied: google-auth<3,>=1.6.3 in /usr/local/lib/python3.10/dist-packages (from tensorboard<2.14,>=2.13->tensorflow<2.14.0,>=2.13.0->tensorflow-io[tensorflow]) (2.17.3)\n",
            "Requirement already satisfied: google-auth-oauthlib<1.1,>=0.5 in /usr/local/lib/python3.10/dist-packages (from tensorboard<2.14,>=2.13->tensorflow<2.14.0,>=2.13.0->tensorflow-io[tensorflow]) (1.0.0)\n",
            "Requirement already satisfied: markdown>=2.6.8 in /usr/local/lib/python3.10/dist-packages (from tensorboard<2.14,>=2.13->tensorflow<2.14.0,>=2.13.0->tensorflow-io[tensorflow]) (3.5.1)\n",
            "Requirement already satisfied: requests<3,>=2.21.0 in /usr/local/lib/python3.10/dist-packages (from tensorboard<2.14,>=2.13->tensorflow<2.14.0,>=2.13.0->tensorflow-io[tensorflow]) (2.31.0)\n",
            "Requirement already satisfied: tensorboard-data-server<0.8.0,>=0.7.0 in /usr/local/lib/python3.10/dist-packages (from tensorboard<2.14,>=2.13->tensorflow<2.14.0,>=2.13.0->tensorflow-io[tensorflow]) (0.7.2)\n",
            "Requirement already satisfied: werkzeug>=1.0.1 in /usr/local/lib/python3.10/dist-packages (from tensorboard<2.14,>=2.13->tensorflow<2.14.0,>=2.13.0->tensorflow-io[tensorflow]) (3.0.1)\n",
            "Requirement already satisfied: cachetools<6.0,>=2.0.0 in /usr/local/lib/python3.10/dist-packages (from google-auth<3,>=1.6.3->tensorboard<2.14,>=2.13->tensorflow<2.14.0,>=2.13.0->tensorflow-io[tensorflow]) (5.3.2)\n",
            "Requirement already satisfied: pyasn1-modules>=0.2.1 in /usr/local/lib/python3.10/dist-packages (from google-auth<3,>=1.6.3->tensorboard<2.14,>=2.13->tensorflow<2.14.0,>=2.13.0->tensorflow-io[tensorflow]) (0.3.0)\n",
            "Requirement already satisfied: rsa<5,>=3.1.4 in /usr/local/lib/python3.10/dist-packages (from google-auth<3,>=1.6.3->tensorboard<2.14,>=2.13->tensorflow<2.14.0,>=2.13.0->tensorflow-io[tensorflow]) (4.9)\n",
            "Requirement already satisfied: requests-oauthlib>=0.7.0 in /usr/local/lib/python3.10/dist-packages (from google-auth-oauthlib<1.1,>=0.5->tensorboard<2.14,>=2.13->tensorflow<2.14.0,>=2.13.0->tensorflow-io[tensorflow]) (1.3.1)\n",
            "Requirement already satisfied: charset-normalizer<4,>=2 in /usr/local/lib/python3.10/dist-packages (from requests<3,>=2.21.0->tensorboard<2.14,>=2.13->tensorflow<2.14.0,>=2.13.0->tensorflow-io[tensorflow]) (3.3.2)\n",
            "Requirement already satisfied: idna<4,>=2.5 in /usr/local/lib/python3.10/dist-packages (from requests<3,>=2.21.0->tensorboard<2.14,>=2.13->tensorflow<2.14.0,>=2.13.0->tensorflow-io[tensorflow]) (3.6)\n",
            "Requirement already satisfied: urllib3<3,>=1.21.1 in /usr/local/lib/python3.10/dist-packages (from requests<3,>=2.21.0->tensorboard<2.14,>=2.13->tensorflow<2.14.0,>=2.13.0->tensorflow-io[tensorflow]) (2.0.7)\n",
            "Requirement already satisfied: certifi>=2017.4.17 in /usr/local/lib/python3.10/dist-packages (from requests<3,>=2.21.0->tensorboard<2.14,>=2.13->tensorflow<2.14.0,>=2.13.0->tensorflow-io[tensorflow]) (2023.11.17)\n",
            "Requirement already satisfied: MarkupSafe>=2.1.1 in /usr/local/lib/python3.10/dist-packages (from werkzeug>=1.0.1->tensorboard<2.14,>=2.13->tensorflow<2.14.0,>=2.13.0->tensorflow-io[tensorflow]) (2.1.3)\n",
            "Requirement already satisfied: pyasn1<0.6.0,>=0.4.6 in /usr/local/lib/python3.10/dist-packages (from pyasn1-modules>=0.2.1->google-auth<3,>=1.6.3->tensorboard<2.14,>=2.13->tensorflow<2.14.0,>=2.13.0->tensorflow-io[tensorflow]) (0.5.1)\n",
            "Requirement already satisfied: oauthlib>=3.0.0 in /usr/local/lib/python3.10/dist-packages (from requests-oauthlib>=0.7.0->google-auth-oauthlib<1.1,>=0.5->tensorboard<2.14,>=2.13->tensorflow<2.14.0,>=2.13.0->tensorflow-io[tensorflow]) (3.2.2)\n",
            "Installing collected packages: tensorflow-io, tensorflow-estimator, keras, gast, tensorboard, tensorflow\n",
            "  Attempting uninstall: tensorflow-estimator\n",
            "    Found existing installation: tensorflow-estimator 2.14.0\n",
            "    Uninstalling tensorflow-estimator-2.14.0:\n",
            "      Successfully uninstalled tensorflow-estimator-2.14.0\n",
            "  Attempting uninstall: keras\n",
            "    Found existing installation: keras 2.14.0\n",
            "    Uninstalling keras-2.14.0:\n",
            "      Successfully uninstalled keras-2.14.0\n",
            "  Attempting uninstall: gast\n",
            "    Found existing installation: gast 0.5.4\n",
            "    Uninstalling gast-0.5.4:\n",
            "      Successfully uninstalled gast-0.5.4\n",
            "  Attempting uninstall: tensorboard\n",
            "    Found existing installation: tensorboard 2.14.1\n",
            "    Uninstalling tensorboard-2.14.1:\n",
            "      Successfully uninstalled tensorboard-2.14.1\n",
            "  Attempting uninstall: tensorflow\n",
            "    Found existing installation: tensorflow 2.14.0\n",
            "    Uninstalling tensorflow-2.14.0:\n",
            "      Successfully uninstalled tensorflow-2.14.0\n",
            "Successfully installed gast-0.4.0 keras-2.13.1 tensorboard-2.13.0 tensorflow-2.13.1 tensorflow-estimator-2.13.0 tensorflow-io-0.34.0\n"
          ]
        },
        {
          "output_type": "display_data",
          "data": {
            "application/vnd.colab-display-data+json": {
              "pip_warning": {
                "packages": [
                  "gast",
                  "keras",
                  "tensorboard",
                  "tensorflow"
                ]
              }
            }
          },
          "metadata": {}
        }
      ]
    },
    {
      "cell_type": "code",
      "source": [
        "import tensorflow_io as tfio"
      ],
      "metadata": {
        "id": "Wys2qqKLSydy"
      },
      "execution_count": null,
      "outputs": []
    },
    {
      "cell_type": "code",
      "source": [
        "def read_and_convert_to_tensor(csv_path, audio_folder, num_samples=None):\n",
        "    df = pd.read_csv(csv_path)\n",
        "\n",
        "    if num_samples:\n",
        "        df = df.iloc[:num_samples]\n",
        "\n",
        "    data = []\n",
        "    labels = []\n",
        "\n",
        "    for index, row in df.iterrows():\n",
        "        file_name = row['filename']\n",
        "        label = row['text']\n",
        "        file_path = os.path.join(audio_folder, file_name)\n",
        "\n",
        "        if os.path.exists(file_path):\n",
        "            audio_binary = tf.io.read_file(file_path)\n",
        "            audio = tfio.audio.decode_mp3(audio_binary)\n",
        "            data.append(audio.numpy())\n",
        "            labels.append(label)\n",
        "        else:\n",
        "            print(f\"File not found: {file_path}\")\n",
        "\n",
        "    return np.array(data), np.array(labels)\n",
        "\n",
        "# Menggunakan kode yang telah Anda berikan\n",
        "train_csv_path = '/content/common-voice/cv-valid-train.csv'\n",
        "train_audio_folder = '/content/common-voice/cv-valid-train'\n",
        "dev_csv_path = '/content/common-voice/cv-valid-dev.csv'\n",
        "dev_audio_folder = '/content/common-voice/cv-valid-dev'\n",
        "\n",
        "# Gunakan parameter num_samples untuk membatasi jumlah sampel yang diambil\n",
        "num_train_to_load = 1000  # Ganti dengan jumlah sampel yang Anda inginkan\n",
        "num_dev_to_load = 100\n",
        "train_data, train_labels = read_and_convert_to_tensor(train_csv_path, train_audio_folder, num_samples=num_train_to_load)\n",
        "dev_data, dev_labels = read_and_convert_to_tensor(dev_csv_path, dev_audio_folder, num_samples=num_dev_to_load)\n",
        "\n",
        "print(\"Train Data Shape:\", train_data.shape)\n",
        "print(\"Train Labels Shape:\", train_labels.shape)\n",
        "print(\"Dev Data Shape:\", dev_data.shape)\n",
        "print(\"Dev Labels Shape:\", dev_labels.shape)"
      ],
      "metadata": {
        "colab": {
          "base_uri": "https://localhost:8080/"
        },
        "id": "6FwKPW1yUHoO",
        "outputId": "8eeb3d1a-128c-4d8e-8ba3-b8479637d463"
      },
      "execution_count": null,
      "outputs": [
        {
          "output_type": "stream",
          "name": "stderr",
          "text": [
            "<ipython-input-18-da9de2656d60>:23: VisibleDeprecationWarning: Creating an ndarray from ragged nested sequences (which is a list-or-tuple of lists-or-tuples-or ndarrays with different lengths or shapes) is deprecated. If you meant to do this, you must specify 'dtype=object' when creating the ndarray.\n",
            "  return np.array(data), np.array(labels)\n"
          ]
        },
        {
          "output_type": "stream",
          "name": "stdout",
          "text": [
            "Train Data Shape: (1000,)\n",
            "Train Labels Shape: (1000,)\n",
            "Test Data Shape: (100,)\n",
            "Test Labels Shape: (100,)\n"
          ]
        },
        {
          "output_type": "stream",
          "name": "stderr",
          "text": [
            "<ipython-input-18-da9de2656d60>:23: VisibleDeprecationWarning: Creating an ndarray from ragged nested sequences (which is a list-or-tuple of lists-or-tuples-or ndarrays with different lengths or shapes) is deprecated. If you meant to do this, you must specify 'dtype=object' when creating the ndarray.\n",
            "  return np.array(data), np.array(labels)\n"
          ]
        }
      ]
    },
    {
      "cell_type": "code",
      "source": [
        "print(len(train_data))"
      ],
      "metadata": {
        "colab": {
          "base_uri": "https://localhost:8080/"
        },
        "id": "X53WlbjheggE",
        "outputId": "108fdc29-3def-4f0d-d7d6-75bdd3ba1cb8"
      },
      "execution_count": null,
      "outputs": [
        {
          "output_type": "stream",
          "name": "stdout",
          "text": [
            "1000\n"
          ]
        }
      ]
    },
    {
      "cell_type": "code",
      "source": [
        "print(len(train_labels[0]))"
      ],
      "metadata": {
        "colab": {
          "base_uri": "https://localhost:8080/"
        },
        "id": "f6OD9uOqd2oK",
        "outputId": "0cee3dd2-cc92-4370-ce36-880f9dae65e0"
      },
      "execution_count": null,
      "outputs": [
        {
          "output_type": "stream",
          "name": "stdout",
          "text": [
            "62\n"
          ]
        }
      ]
    },
    {
      "cell_type": "code",
      "source": [
        "# Menghitung jumlah kata-kata unik dalam seluruh label pelatihan\n",
        "unique_words = set(word for label in train_labels for word in label.split())\n",
        "\n",
        "# Mendapatkan jumlah kata-kata unik\n",
        "num_classes = len(unique_words)\n",
        "\n",
        "print(\"Number of Unique Words (num_classes):\", num_classes)"
      ],
      "metadata": {
        "colab": {
          "base_uri": "https://localhost:8080/"
        },
        "id": "ChHOPeWFeYy4",
        "outputId": "2952e32c-a45f-4b43-80c2-78bf51719474"
      },
      "execution_count": null,
      "outputs": [
        {
          "output_type": "stream",
          "name": "stdout",
          "text": [
            "Number of Unique Words (num_classes): 1921\n"
          ]
        }
      ]
    },
    {
      "cell_type": "markdown",
      "source": [
        "## Model LSTM"
      ],
      "metadata": {
        "id": "A37Q9FNLZ37r"
      }
    },
    {
      "cell_type": "code",
      "source": [
        "train_data = train_data.reshape(train_data.shape[0], -1)\n",
        "dev_data = dev_data.reshape(dev_data.shape[0], -1)\n",
        "\n",
        "# Membuat tf.data.Dataset\n",
        "train_dataset = tf.data.Dataset.from_tensor_slices((train_data, train_labels))\n",
        "dev_dataset = tf.data.Dataset.from_tensor_slices((dev_data, dev_labels))\n",
        "\n",
        "# Menyesuaikan input_shape dengan bentuk data suara Anda\n",
        "input_shape = (None, 64000)  # Sesuaikan dengan panjang suara Anda\n",
        "\n",
        "# Membangun model RNN\n",
        "model = models.Sequential()\n",
        "model.add(layers.LSTM(128, input_shape=input_shape))\n",
        "model.add(layers.Dense(64, activation='relu'))\n",
        "model.add(layers.Dense(num_classes, activation='softmax'))\n",
        "\n",
        "# Kompilasi model\n",
        "model.compile(optimizer='adam', loss='sparse_categorical_crossentropy', metrics=['accuracy'])\n",
        "\n",
        "# Melatih model dengan menggunakan tf.data.Dataset\n",
        "batch_size = 32  # Sesuaikan dengan kebutuhan Anda\n",
        "epochs = 10\n",
        "\n",
        "model.fit(train_dataset.batch(batch_size), epochs=epochs, validation_data=val_dataset.batch(batch_size))"
      ],
      "metadata": {
        "colab": {
          "base_uri": "https://localhost:8080/",
          "height": 391
        },
        "id": "bXJo6LW8fKhp",
        "outputId": "4400e8f7-b000-4603-e333-9fa5035f7eb7"
      },
      "execution_count": null,
      "outputs": [
        {
          "output_type": "error",
          "ename": "ValueError",
          "evalue": "ignored",
          "traceback": [
            "\u001b[0;31m---------------------------------------------------------------------------\u001b[0m",
            "\u001b[0;31mValueError\u001b[0m                                Traceback (most recent call last)",
            "\u001b[0;32m<ipython-input-21-83cb6774320f>\u001b[0m in \u001b[0;36m<cell line: 5>\u001b[0;34m()\u001b[0m\n\u001b[1;32m      3\u001b[0m \u001b[0;34m\u001b[0m\u001b[0m\n\u001b[1;32m      4\u001b[0m \u001b[0;31m# Membuat tf.data.Dataset\u001b[0m\u001b[0;34m\u001b[0m\u001b[0;34m\u001b[0m\u001b[0m\n\u001b[0;32m----> 5\u001b[0;31m \u001b[0mtrain_dataset\u001b[0m \u001b[0;34m=\u001b[0m \u001b[0mtf\u001b[0m\u001b[0;34m.\u001b[0m\u001b[0mdata\u001b[0m\u001b[0;34m.\u001b[0m\u001b[0mDataset\u001b[0m\u001b[0;34m.\u001b[0m\u001b[0mfrom_tensor_slices\u001b[0m\u001b[0;34m(\u001b[0m\u001b[0;34m(\u001b[0m\u001b[0mtrain_data\u001b[0m\u001b[0;34m,\u001b[0m \u001b[0mtrain_labels\u001b[0m\u001b[0;34m)\u001b[0m\u001b[0;34m)\u001b[0m\u001b[0;34m\u001b[0m\u001b[0;34m\u001b[0m\u001b[0m\n\u001b[0m\u001b[1;32m      6\u001b[0m \u001b[0mval_dataset\u001b[0m \u001b[0;34m=\u001b[0m \u001b[0mtf\u001b[0m\u001b[0;34m.\u001b[0m\u001b[0mdata\u001b[0m\u001b[0;34m.\u001b[0m\u001b[0mDataset\u001b[0m\u001b[0;34m.\u001b[0m\u001b[0mfrom_tensor_slices\u001b[0m\u001b[0;34m(\u001b[0m\u001b[0;34m(\u001b[0m\u001b[0mval_data\u001b[0m\u001b[0;34m,\u001b[0m \u001b[0mval_labels\u001b[0m\u001b[0;34m)\u001b[0m\u001b[0;34m)\u001b[0m\u001b[0;34m\u001b[0m\u001b[0;34m\u001b[0m\u001b[0m\n\u001b[1;32m      7\u001b[0m \u001b[0;34m\u001b[0m\u001b[0m\n",
            "\u001b[0;32m/usr/local/lib/python3.10/dist-packages/tensorflow/python/data/ops/dataset_ops.py\u001b[0m in \u001b[0;36mfrom_tensor_slices\u001b[0;34m(tensors, name)\u001b[0m\n\u001b[1;32m    829\u001b[0m     \u001b[0;31m# pylint: disable=g-import-not-at-top,protected-access\u001b[0m\u001b[0;34m\u001b[0m\u001b[0;34m\u001b[0m\u001b[0m\n\u001b[1;32m    830\u001b[0m     \u001b[0;32mfrom\u001b[0m \u001b[0mtensorflow\u001b[0m\u001b[0;34m.\u001b[0m\u001b[0mpython\u001b[0m\u001b[0;34m.\u001b[0m\u001b[0mdata\u001b[0m\u001b[0;34m.\u001b[0m\u001b[0mops\u001b[0m \u001b[0;32mimport\u001b[0m \u001b[0mfrom_tensor_slices_op\u001b[0m\u001b[0;34m\u001b[0m\u001b[0;34m\u001b[0m\u001b[0m\n\u001b[0;32m--> 831\u001b[0;31m     \u001b[0;32mreturn\u001b[0m \u001b[0mfrom_tensor_slices_op\u001b[0m\u001b[0;34m.\u001b[0m\u001b[0m_from_tensor_slices\u001b[0m\u001b[0;34m(\u001b[0m\u001b[0mtensors\u001b[0m\u001b[0;34m,\u001b[0m \u001b[0mname\u001b[0m\u001b[0;34m)\u001b[0m\u001b[0;34m\u001b[0m\u001b[0;34m\u001b[0m\u001b[0m\n\u001b[0m\u001b[1;32m    832\u001b[0m     \u001b[0;31m# pylint: enable=g-import-not-at-top,protected-access\u001b[0m\u001b[0;34m\u001b[0m\u001b[0;34m\u001b[0m\u001b[0m\n\u001b[1;32m    833\u001b[0m \u001b[0;34m\u001b[0m\u001b[0m\n",
            "\u001b[0;32m/usr/local/lib/python3.10/dist-packages/tensorflow/python/data/ops/from_tensor_slices_op.py\u001b[0m in \u001b[0;36m_from_tensor_slices\u001b[0;34m(tensors, name)\u001b[0m\n\u001b[1;32m     23\u001b[0m \u001b[0;34m\u001b[0m\u001b[0m\n\u001b[1;32m     24\u001b[0m \u001b[0;32mdef\u001b[0m \u001b[0m_from_tensor_slices\u001b[0m\u001b[0;34m(\u001b[0m\u001b[0mtensors\u001b[0m\u001b[0;34m,\u001b[0m \u001b[0mname\u001b[0m\u001b[0;34m=\u001b[0m\u001b[0;32mNone\u001b[0m\u001b[0;34m)\u001b[0m\u001b[0;34m:\u001b[0m\u001b[0;34m\u001b[0m\u001b[0;34m\u001b[0m\u001b[0m\n\u001b[0;32m---> 25\u001b[0;31m   \u001b[0;32mreturn\u001b[0m \u001b[0m_TensorSliceDataset\u001b[0m\u001b[0;34m(\u001b[0m\u001b[0mtensors\u001b[0m\u001b[0;34m,\u001b[0m \u001b[0mname\u001b[0m\u001b[0;34m=\u001b[0m\u001b[0mname\u001b[0m\u001b[0;34m)\u001b[0m\u001b[0;34m\u001b[0m\u001b[0;34m\u001b[0m\u001b[0m\n\u001b[0m\u001b[1;32m     26\u001b[0m \u001b[0;34m\u001b[0m\u001b[0m\n\u001b[1;32m     27\u001b[0m \u001b[0;34m\u001b[0m\u001b[0m\n",
            "\u001b[0;32m/usr/local/lib/python3.10/dist-packages/tensorflow/python/data/ops/from_tensor_slices_op.py\u001b[0m in \u001b[0;36m__init__\u001b[0;34m(self, element, is_files, name)\u001b[0m\n\u001b[1;32m     31\u001b[0m   \u001b[0;32mdef\u001b[0m \u001b[0m__init__\u001b[0m\u001b[0;34m(\u001b[0m\u001b[0mself\u001b[0m\u001b[0;34m,\u001b[0m \u001b[0melement\u001b[0m\u001b[0;34m,\u001b[0m \u001b[0mis_files\u001b[0m\u001b[0;34m=\u001b[0m\u001b[0;32mFalse\u001b[0m\u001b[0;34m,\u001b[0m \u001b[0mname\u001b[0m\u001b[0;34m=\u001b[0m\u001b[0;32mNone\u001b[0m\u001b[0;34m)\u001b[0m\u001b[0;34m:\u001b[0m\u001b[0;34m\u001b[0m\u001b[0;34m\u001b[0m\u001b[0m\n\u001b[1;32m     32\u001b[0m     \u001b[0;34m\"\"\"See `Dataset.from_tensor_slices` for details.\"\"\"\u001b[0m\u001b[0;34m\u001b[0m\u001b[0;34m\u001b[0m\u001b[0m\n\u001b[0;32m---> 33\u001b[0;31m     \u001b[0melement\u001b[0m \u001b[0;34m=\u001b[0m \u001b[0mstructure\u001b[0m\u001b[0;34m.\u001b[0m\u001b[0mnormalize_element\u001b[0m\u001b[0;34m(\u001b[0m\u001b[0melement\u001b[0m\u001b[0;34m)\u001b[0m\u001b[0;34m\u001b[0m\u001b[0;34m\u001b[0m\u001b[0m\n\u001b[0m\u001b[1;32m     34\u001b[0m     \u001b[0mbatched_spec\u001b[0m \u001b[0;34m=\u001b[0m \u001b[0mstructure\u001b[0m\u001b[0;34m.\u001b[0m\u001b[0mtype_spec_from_value\u001b[0m\u001b[0;34m(\u001b[0m\u001b[0melement\u001b[0m\u001b[0;34m)\u001b[0m\u001b[0;34m\u001b[0m\u001b[0;34m\u001b[0m\u001b[0m\n\u001b[1;32m     35\u001b[0m     \u001b[0mself\u001b[0m\u001b[0;34m.\u001b[0m\u001b[0m_tensors\u001b[0m \u001b[0;34m=\u001b[0m \u001b[0mstructure\u001b[0m\u001b[0;34m.\u001b[0m\u001b[0mto_batched_tensor_list\u001b[0m\u001b[0;34m(\u001b[0m\u001b[0mbatched_spec\u001b[0m\u001b[0;34m,\u001b[0m \u001b[0melement\u001b[0m\u001b[0;34m)\u001b[0m\u001b[0;34m\u001b[0m\u001b[0;34m\u001b[0m\u001b[0m\n",
            "\u001b[0;32m/usr/local/lib/python3.10/dist-packages/tensorflow/python/data/util/structure.py\u001b[0m in \u001b[0;36mnormalize_element\u001b[0;34m(element, element_signature)\u001b[0m\n\u001b[1;32m    131\u001b[0m           \u001b[0mdtype\u001b[0m \u001b[0;34m=\u001b[0m \u001b[0mgetattr\u001b[0m\u001b[0;34m(\u001b[0m\u001b[0mspec\u001b[0m\u001b[0;34m,\u001b[0m \u001b[0;34m\"dtype\"\u001b[0m\u001b[0;34m,\u001b[0m \u001b[0;32mNone\u001b[0m\u001b[0;34m)\u001b[0m\u001b[0;34m\u001b[0m\u001b[0;34m\u001b[0m\u001b[0m\n\u001b[1;32m    132\u001b[0m           normalized_components.append(\n\u001b[0;32m--> 133\u001b[0;31m               ops.convert_to_tensor(t, name=\"component_%d\" % i, dtype=dtype))\n\u001b[0m\u001b[1;32m    134\u001b[0m   \u001b[0;32mreturn\u001b[0m \u001b[0mnest\u001b[0m\u001b[0;34m.\u001b[0m\u001b[0mpack_sequence_as\u001b[0m\u001b[0;34m(\u001b[0m\u001b[0mpack_as\u001b[0m\u001b[0;34m,\u001b[0m \u001b[0mnormalized_components\u001b[0m\u001b[0;34m)\u001b[0m\u001b[0;34m\u001b[0m\u001b[0;34m\u001b[0m\u001b[0m\n\u001b[1;32m    135\u001b[0m \u001b[0;34m\u001b[0m\u001b[0m\n",
            "\u001b[0;32m/usr/local/lib/python3.10/dist-packages/tensorflow/python/profiler/trace.py\u001b[0m in \u001b[0;36mwrapped\u001b[0;34m(*args, **kwargs)\u001b[0m\n\u001b[1;32m    181\u001b[0m         \u001b[0;32mwith\u001b[0m \u001b[0mTrace\u001b[0m\u001b[0;34m(\u001b[0m\u001b[0mtrace_name\u001b[0m\u001b[0;34m,\u001b[0m \u001b[0;34m**\u001b[0m\u001b[0mtrace_kwargs\u001b[0m\u001b[0;34m)\u001b[0m\u001b[0;34m:\u001b[0m\u001b[0;34m\u001b[0m\u001b[0;34m\u001b[0m\u001b[0m\n\u001b[1;32m    182\u001b[0m           \u001b[0;32mreturn\u001b[0m \u001b[0mfunc\u001b[0m\u001b[0;34m(\u001b[0m\u001b[0;34m*\u001b[0m\u001b[0margs\u001b[0m\u001b[0;34m,\u001b[0m \u001b[0;34m**\u001b[0m\u001b[0mkwargs\u001b[0m\u001b[0;34m)\u001b[0m\u001b[0;34m\u001b[0m\u001b[0;34m\u001b[0m\u001b[0m\n\u001b[0;32m--> 183\u001b[0;31m       \u001b[0;32mreturn\u001b[0m \u001b[0mfunc\u001b[0m\u001b[0;34m(\u001b[0m\u001b[0;34m*\u001b[0m\u001b[0margs\u001b[0m\u001b[0;34m,\u001b[0m \u001b[0;34m**\u001b[0m\u001b[0mkwargs\u001b[0m\u001b[0;34m)\u001b[0m\u001b[0;34m\u001b[0m\u001b[0;34m\u001b[0m\u001b[0m\n\u001b[0m\u001b[1;32m    184\u001b[0m \u001b[0;34m\u001b[0m\u001b[0m\n\u001b[1;32m    185\u001b[0m     \u001b[0;32mreturn\u001b[0m \u001b[0mwrapped\u001b[0m\u001b[0;34m\u001b[0m\u001b[0;34m\u001b[0m\u001b[0m\n",
            "\u001b[0;32m/usr/local/lib/python3.10/dist-packages/tensorflow/python/framework/ops.py\u001b[0m in \u001b[0;36mconvert_to_tensor\u001b[0;34m(value, dtype, name, as_ref, preferred_dtype, dtype_hint, ctx, accepted_result_types)\u001b[0m\n\u001b[1;32m   1441\u001b[0m   \u001b[0;31m# TODO(b/142518781): Fix all call-sites and remove redundant arg\u001b[0m\u001b[0;34m\u001b[0m\u001b[0;34m\u001b[0m\u001b[0m\n\u001b[1;32m   1442\u001b[0m   \u001b[0mpreferred_dtype\u001b[0m \u001b[0;34m=\u001b[0m \u001b[0mpreferred_dtype\u001b[0m \u001b[0;32mor\u001b[0m \u001b[0mdtype_hint\u001b[0m\u001b[0;34m\u001b[0m\u001b[0;34m\u001b[0m\u001b[0m\n\u001b[0;32m-> 1443\u001b[0;31m   return tensor_conversion_registry.convert(\n\u001b[0m\u001b[1;32m   1444\u001b[0m       \u001b[0mvalue\u001b[0m\u001b[0;34m,\u001b[0m \u001b[0mdtype\u001b[0m\u001b[0;34m,\u001b[0m \u001b[0mname\u001b[0m\u001b[0;34m,\u001b[0m \u001b[0mas_ref\u001b[0m\u001b[0;34m,\u001b[0m \u001b[0mpreferred_dtype\u001b[0m\u001b[0;34m,\u001b[0m \u001b[0maccepted_result_types\u001b[0m\u001b[0;34m\u001b[0m\u001b[0;34m\u001b[0m\u001b[0m\n\u001b[1;32m   1445\u001b[0m   )\n",
            "\u001b[0;32m/usr/local/lib/python3.10/dist-packages/tensorflow/python/framework/tensor_conversion_registry.py\u001b[0m in \u001b[0;36mconvert\u001b[0;34m(value, dtype, name, as_ref, preferred_dtype, accepted_result_types)\u001b[0m\n\u001b[1;32m    232\u001b[0m \u001b[0;34m\u001b[0m\u001b[0m\n\u001b[1;32m    233\u001b[0m     \u001b[0;32mif\u001b[0m \u001b[0mret\u001b[0m \u001b[0;32mis\u001b[0m \u001b[0;32mNone\u001b[0m\u001b[0;34m:\u001b[0m\u001b[0;34m\u001b[0m\u001b[0;34m\u001b[0m\u001b[0m\n\u001b[0;32m--> 234\u001b[0;31m       \u001b[0mret\u001b[0m \u001b[0;34m=\u001b[0m \u001b[0mconversion_func\u001b[0m\u001b[0;34m(\u001b[0m\u001b[0mvalue\u001b[0m\u001b[0;34m,\u001b[0m \u001b[0mdtype\u001b[0m\u001b[0;34m=\u001b[0m\u001b[0mdtype\u001b[0m\u001b[0;34m,\u001b[0m \u001b[0mname\u001b[0m\u001b[0;34m=\u001b[0m\u001b[0mname\u001b[0m\u001b[0;34m,\u001b[0m \u001b[0mas_ref\u001b[0m\u001b[0;34m=\u001b[0m\u001b[0mas_ref\u001b[0m\u001b[0;34m)\u001b[0m\u001b[0;34m\u001b[0m\u001b[0;34m\u001b[0m\u001b[0m\n\u001b[0m\u001b[1;32m    235\u001b[0m \u001b[0;34m\u001b[0m\u001b[0m\n\u001b[1;32m    236\u001b[0m     \u001b[0;32mif\u001b[0m \u001b[0mret\u001b[0m \u001b[0;32mis\u001b[0m \u001b[0mNotImplemented\u001b[0m\u001b[0;34m:\u001b[0m\u001b[0;34m\u001b[0m\u001b[0;34m\u001b[0m\u001b[0m\n",
            "\u001b[0;32m/usr/local/lib/python3.10/dist-packages/tensorflow/python/framework/constant_op.py\u001b[0m in \u001b[0;36m_constant_tensor_conversion_function\u001b[0;34m(v, dtype, name, as_ref)\u001b[0m\n\u001b[1;32m    322\u001b[0m                                          as_ref=False):\n\u001b[1;32m    323\u001b[0m   \u001b[0m_\u001b[0m \u001b[0;34m=\u001b[0m \u001b[0mas_ref\u001b[0m\u001b[0;34m\u001b[0m\u001b[0;34m\u001b[0m\u001b[0m\n\u001b[0;32m--> 324\u001b[0;31m   \u001b[0;32mreturn\u001b[0m \u001b[0mconstant\u001b[0m\u001b[0;34m(\u001b[0m\u001b[0mv\u001b[0m\u001b[0;34m,\u001b[0m \u001b[0mdtype\u001b[0m\u001b[0;34m=\u001b[0m\u001b[0mdtype\u001b[0m\u001b[0;34m,\u001b[0m \u001b[0mname\u001b[0m\u001b[0;34m=\u001b[0m\u001b[0mname\u001b[0m\u001b[0;34m)\u001b[0m\u001b[0;34m\u001b[0m\u001b[0;34m\u001b[0m\u001b[0m\n\u001b[0m\u001b[1;32m    325\u001b[0m \u001b[0;34m\u001b[0m\u001b[0m\n\u001b[1;32m    326\u001b[0m \u001b[0;31m# Register the conversion function for the \"unconvertible\" types\u001b[0m\u001b[0;34m\u001b[0m\u001b[0;34m\u001b[0m\u001b[0m\n",
            "\u001b[0;32m/usr/local/lib/python3.10/dist-packages/tensorflow/python/framework/constant_op.py\u001b[0m in \u001b[0;36mconstant\u001b[0;34m(value, dtype, shape, name)\u001b[0m\n\u001b[1;32m    261\u001b[0m     \u001b[0mValueError\u001b[0m\u001b[0;34m:\u001b[0m \u001b[0;32mif\u001b[0m \u001b[0mcalled\u001b[0m \u001b[0mon\u001b[0m \u001b[0ma\u001b[0m \u001b[0msymbolic\u001b[0m \u001b[0mtensor\u001b[0m\u001b[0;34m.\u001b[0m\u001b[0;34m\u001b[0m\u001b[0;34m\u001b[0m\u001b[0m\n\u001b[1;32m    262\u001b[0m   \"\"\"\n\u001b[0;32m--> 263\u001b[0;31m   return _constant_impl(value, dtype, shape, name, verify_shape=False,\n\u001b[0m\u001b[1;32m    264\u001b[0m                         allow_broadcast=True)\n\u001b[1;32m    265\u001b[0m \u001b[0;34m\u001b[0m\u001b[0m\n",
            "\u001b[0;32m/usr/local/lib/python3.10/dist-packages/tensorflow/python/framework/constant_op.py\u001b[0m in \u001b[0;36m_constant_impl\u001b[0;34m(value, dtype, shape, name, verify_shape, allow_broadcast)\u001b[0m\n\u001b[1;32m    273\u001b[0m       \u001b[0;32mwith\u001b[0m \u001b[0mtrace\u001b[0m\u001b[0;34m.\u001b[0m\u001b[0mTrace\u001b[0m\u001b[0;34m(\u001b[0m\u001b[0;34m\"tf.constant\"\u001b[0m\u001b[0;34m)\u001b[0m\u001b[0;34m:\u001b[0m\u001b[0;34m\u001b[0m\u001b[0;34m\u001b[0m\u001b[0m\n\u001b[1;32m    274\u001b[0m         \u001b[0;32mreturn\u001b[0m \u001b[0m_constant_eager_impl\u001b[0m\u001b[0;34m(\u001b[0m\u001b[0mctx\u001b[0m\u001b[0;34m,\u001b[0m \u001b[0mvalue\u001b[0m\u001b[0;34m,\u001b[0m \u001b[0mdtype\u001b[0m\u001b[0;34m,\u001b[0m \u001b[0mshape\u001b[0m\u001b[0;34m,\u001b[0m \u001b[0mverify_shape\u001b[0m\u001b[0;34m)\u001b[0m\u001b[0;34m\u001b[0m\u001b[0;34m\u001b[0m\u001b[0m\n\u001b[0;32m--> 275\u001b[0;31m     \u001b[0;32mreturn\u001b[0m \u001b[0m_constant_eager_impl\u001b[0m\u001b[0;34m(\u001b[0m\u001b[0mctx\u001b[0m\u001b[0;34m,\u001b[0m \u001b[0mvalue\u001b[0m\u001b[0;34m,\u001b[0m \u001b[0mdtype\u001b[0m\u001b[0;34m,\u001b[0m \u001b[0mshape\u001b[0m\u001b[0;34m,\u001b[0m \u001b[0mverify_shape\u001b[0m\u001b[0;34m)\u001b[0m\u001b[0;34m\u001b[0m\u001b[0;34m\u001b[0m\u001b[0m\n\u001b[0m\u001b[1;32m    276\u001b[0m \u001b[0;34m\u001b[0m\u001b[0m\n\u001b[1;32m    277\u001b[0m   const_tensor = ops._create_graph_constant(  # pylint: disable=protected-access\n",
            "\u001b[0;32m/usr/local/lib/python3.10/dist-packages/tensorflow/python/framework/constant_op.py\u001b[0m in \u001b[0;36m_constant_eager_impl\u001b[0;34m(ctx, value, dtype, shape, verify_shape)\u001b[0m\n\u001b[1;32m    283\u001b[0m \u001b[0;32mdef\u001b[0m \u001b[0m_constant_eager_impl\u001b[0m\u001b[0;34m(\u001b[0m\u001b[0mctx\u001b[0m\u001b[0;34m,\u001b[0m \u001b[0mvalue\u001b[0m\u001b[0;34m,\u001b[0m \u001b[0mdtype\u001b[0m\u001b[0;34m,\u001b[0m \u001b[0mshape\u001b[0m\u001b[0;34m,\u001b[0m \u001b[0mverify_shape\u001b[0m\u001b[0;34m)\u001b[0m\u001b[0;34m:\u001b[0m\u001b[0;34m\u001b[0m\u001b[0;34m\u001b[0m\u001b[0m\n\u001b[1;32m    284\u001b[0m   \u001b[0;34m\"\"\"Creates a constant on the current device.\"\"\"\u001b[0m\u001b[0;34m\u001b[0m\u001b[0;34m\u001b[0m\u001b[0m\n\u001b[0;32m--> 285\u001b[0;31m   \u001b[0mt\u001b[0m \u001b[0;34m=\u001b[0m \u001b[0mconvert_to_eager_tensor\u001b[0m\u001b[0;34m(\u001b[0m\u001b[0mvalue\u001b[0m\u001b[0;34m,\u001b[0m \u001b[0mctx\u001b[0m\u001b[0;34m,\u001b[0m \u001b[0mdtype\u001b[0m\u001b[0;34m)\u001b[0m\u001b[0;34m\u001b[0m\u001b[0;34m\u001b[0m\u001b[0m\n\u001b[0m\u001b[1;32m    286\u001b[0m   \u001b[0;32mif\u001b[0m \u001b[0mshape\u001b[0m \u001b[0;32mis\u001b[0m \u001b[0;32mNone\u001b[0m\u001b[0;34m:\u001b[0m\u001b[0;34m\u001b[0m\u001b[0;34m\u001b[0m\u001b[0m\n\u001b[1;32m    287\u001b[0m     \u001b[0;32mreturn\u001b[0m \u001b[0mt\u001b[0m\u001b[0;34m\u001b[0m\u001b[0;34m\u001b[0m\u001b[0m\n",
            "\u001b[0;32m/usr/local/lib/python3.10/dist-packages/tensorflow/python/framework/constant_op.py\u001b[0m in \u001b[0;36mconvert_to_eager_tensor\u001b[0;34m(value, ctx, dtype)\u001b[0m\n\u001b[1;32m     96\u001b[0m       \u001b[0mdtype\u001b[0m \u001b[0;34m=\u001b[0m \u001b[0mdtypes\u001b[0m\u001b[0;34m.\u001b[0m\u001b[0mas_dtype\u001b[0m\u001b[0;34m(\u001b[0m\u001b[0mdtype\u001b[0m\u001b[0;34m)\u001b[0m\u001b[0;34m.\u001b[0m\u001b[0mas_datatype_enum\u001b[0m\u001b[0;34m\u001b[0m\u001b[0;34m\u001b[0m\u001b[0m\n\u001b[1;32m     97\u001b[0m   \u001b[0mctx\u001b[0m\u001b[0;34m.\u001b[0m\u001b[0mensure_initialized\u001b[0m\u001b[0;34m(\u001b[0m\u001b[0;34m)\u001b[0m\u001b[0;34m\u001b[0m\u001b[0;34m\u001b[0m\u001b[0m\n\u001b[0;32m---> 98\u001b[0;31m   \u001b[0;32mreturn\u001b[0m \u001b[0mops\u001b[0m\u001b[0;34m.\u001b[0m\u001b[0mEagerTensor\u001b[0m\u001b[0;34m(\u001b[0m\u001b[0mvalue\u001b[0m\u001b[0;34m,\u001b[0m \u001b[0mctx\u001b[0m\u001b[0;34m.\u001b[0m\u001b[0mdevice_name\u001b[0m\u001b[0;34m,\u001b[0m \u001b[0mdtype\u001b[0m\u001b[0;34m)\u001b[0m\u001b[0;34m\u001b[0m\u001b[0;34m\u001b[0m\u001b[0m\n\u001b[0m\u001b[1;32m     99\u001b[0m \u001b[0;34m\u001b[0m\u001b[0m\n\u001b[1;32m    100\u001b[0m \u001b[0;34m\u001b[0m\u001b[0m\n",
            "\u001b[0;31mValueError\u001b[0m: Failed to convert a NumPy array to a Tensor (Unsupported object type numpy.ndarray)."
          ]
        }
      ]
    },
    {
      "cell_type": "code",
      "source": [
        "from sklearn.model_selection import train_test_split\n",
        "\n",
        "#Membagi training dan testing\n",
        "train_data, val_data, train_labels, val_labels = train_test_split(train_data, train_labels, test_size=0.2, random_state=42)\n",
        "\n",
        "# Membangun model RNN\n",
        "model = models.Sequential()\n",
        "model.add(layers.LSTM(128, input_shape=(None, 64000)))  # Sesuaikan input_shape dengan bentuk data suara Anda\n",
        "model.add(layers.Dense(64, activation='relu'))\n",
        "model.add(layers.Dense(num_classes, activation='softmax'))  # Sesuaikan num_classes dengan jumlah kelas Anda\n",
        "\n",
        "# Kompilasi model\n",
        "model.compile(optimizer='adam', loss='sparse_categorical_crossentropy', metrics=['accuracy'])\n",
        "\n",
        "# Melatih model\n",
        "model.fit(train_data, train_labels, epochs=10, validation_data=(test_data, test_labels))"
      ],
      "metadata": {
        "colab": {
          "base_uri": "https://localhost:8080/",
          "height": 356
        },
        "id": "Y4YxFU0hZ3Kh",
        "outputId": "af25d033-19f6-4d13-c91a-6ae1e148e361"
      },
      "execution_count": null,
      "outputs": [
        {
          "output_type": "error",
          "ename": "ValueError",
          "evalue": "ignored",
          "traceback": [
            "\u001b[0;31m---------------------------------------------------------------------------\u001b[0m",
            "\u001b[0;31mValueError\u001b[0m                                Traceback (most recent call last)",
            "\u001b[0;32m<ipython-input-17-7548212889c4>\u001b[0m in \u001b[0;36m<cell line: 16>\u001b[0;34m()\u001b[0m\n\u001b[1;32m     14\u001b[0m \u001b[0;34m\u001b[0m\u001b[0m\n\u001b[1;32m     15\u001b[0m \u001b[0;31m# Melatih model\u001b[0m\u001b[0;34m\u001b[0m\u001b[0;34m\u001b[0m\u001b[0m\n\u001b[0;32m---> 16\u001b[0;31m \u001b[0mmodel\u001b[0m\u001b[0;34m.\u001b[0m\u001b[0mfit\u001b[0m\u001b[0;34m(\u001b[0m\u001b[0mtrain_data\u001b[0m\u001b[0;34m,\u001b[0m \u001b[0mtrain_labels\u001b[0m\u001b[0;34m,\u001b[0m \u001b[0mepochs\u001b[0m\u001b[0;34m=\u001b[0m\u001b[0;36m10\u001b[0m\u001b[0;34m,\u001b[0m \u001b[0mvalidation_data\u001b[0m\u001b[0;34m=\u001b[0m\u001b[0;34m(\u001b[0m\u001b[0mtest_data\u001b[0m\u001b[0;34m,\u001b[0m \u001b[0mtest_labels\u001b[0m\u001b[0;34m)\u001b[0m\u001b[0;34m)\u001b[0m\u001b[0;34m\u001b[0m\u001b[0;34m\u001b[0m\u001b[0m\n\u001b[0m",
            "\u001b[0;32m/usr/local/lib/python3.10/dist-packages/keras/src/utils/traceback_utils.py\u001b[0m in \u001b[0;36merror_handler\u001b[0;34m(*args, **kwargs)\u001b[0m\n\u001b[1;32m     68\u001b[0m             \u001b[0;31m# To get the full stack trace, call:\u001b[0m\u001b[0;34m\u001b[0m\u001b[0;34m\u001b[0m\u001b[0m\n\u001b[1;32m     69\u001b[0m             \u001b[0;31m# `tf.debugging.disable_traceback_filtering()`\u001b[0m\u001b[0;34m\u001b[0m\u001b[0;34m\u001b[0m\u001b[0m\n\u001b[0;32m---> 70\u001b[0;31m             \u001b[0;32mraise\u001b[0m \u001b[0me\u001b[0m\u001b[0;34m.\u001b[0m\u001b[0mwith_traceback\u001b[0m\u001b[0;34m(\u001b[0m\u001b[0mfiltered_tb\u001b[0m\u001b[0;34m)\u001b[0m \u001b[0;32mfrom\u001b[0m \u001b[0;32mNone\u001b[0m\u001b[0;34m\u001b[0m\u001b[0;34m\u001b[0m\u001b[0m\n\u001b[0m\u001b[1;32m     71\u001b[0m         \u001b[0;32mfinally\u001b[0m\u001b[0;34m:\u001b[0m\u001b[0;34m\u001b[0m\u001b[0;34m\u001b[0m\u001b[0m\n\u001b[1;32m     72\u001b[0m             \u001b[0;32mdel\u001b[0m \u001b[0mfiltered_tb\u001b[0m\u001b[0;34m\u001b[0m\u001b[0;34m\u001b[0m\u001b[0m\n",
            "\u001b[0;32m/usr/local/lib/python3.10/dist-packages/tensorflow/python/framework/constant_op.py\u001b[0m in \u001b[0;36mconvert_to_eager_tensor\u001b[0;34m(value, ctx, dtype)\u001b[0m\n\u001b[1;32m     96\u001b[0m       \u001b[0mdtype\u001b[0m \u001b[0;34m=\u001b[0m \u001b[0mdtypes\u001b[0m\u001b[0;34m.\u001b[0m\u001b[0mas_dtype\u001b[0m\u001b[0;34m(\u001b[0m\u001b[0mdtype\u001b[0m\u001b[0;34m)\u001b[0m\u001b[0;34m.\u001b[0m\u001b[0mas_datatype_enum\u001b[0m\u001b[0;34m\u001b[0m\u001b[0;34m\u001b[0m\u001b[0m\n\u001b[1;32m     97\u001b[0m   \u001b[0mctx\u001b[0m\u001b[0;34m.\u001b[0m\u001b[0mensure_initialized\u001b[0m\u001b[0;34m(\u001b[0m\u001b[0;34m)\u001b[0m\u001b[0;34m\u001b[0m\u001b[0;34m\u001b[0m\u001b[0m\n\u001b[0;32m---> 98\u001b[0;31m   \u001b[0;32mreturn\u001b[0m \u001b[0mops\u001b[0m\u001b[0;34m.\u001b[0m\u001b[0mEagerTensor\u001b[0m\u001b[0;34m(\u001b[0m\u001b[0mvalue\u001b[0m\u001b[0;34m,\u001b[0m \u001b[0mctx\u001b[0m\u001b[0;34m.\u001b[0m\u001b[0mdevice_name\u001b[0m\u001b[0;34m,\u001b[0m \u001b[0mdtype\u001b[0m\u001b[0;34m)\u001b[0m\u001b[0;34m\u001b[0m\u001b[0;34m\u001b[0m\u001b[0m\n\u001b[0m\u001b[1;32m     99\u001b[0m \u001b[0;34m\u001b[0m\u001b[0m\n\u001b[1;32m    100\u001b[0m \u001b[0;34m\u001b[0m\u001b[0m\n",
            "\u001b[0;31mValueError\u001b[0m: Failed to convert a NumPy array to a Tensor (Unsupported object type numpy.ndarray)."
          ]
        }
      ]
    },
    {
      "cell_type": "code",
      "source": [
        "from tensorflow.keras import layers, models\n",
        "\n",
        "# Membangun model speech-to-text\n",
        "model = models.Sequential()\n",
        "\n",
        "# Lapisan konvolusi untuk mengekstrak fitur dari sinyal suara\n",
        "model.add(layers.Conv2D(32, kernel_size=(3, 3), activation='relu', input_shape=(panjang_sinyal, jumlah_fitur, 1)))\n",
        "model.add(layers.MaxPooling2D(pool_size=(2, 2)))\n",
        "\n",
        "# LSTM untuk pemrosesan sekuens sinyal suara\n",
        "model.add(layers.LSTM(128, return_sequences=True))\n",
        "model.add(layers.LSTM(128))\n",
        "\n",
        "# Lapisan tersembunyi dan dropout (opsional)\n",
        "model.add(layers.Dense(64, activation='relu'))\n",
        "model.add(layers.Dropout(0.3))\n",
        "\n",
        "# Lapisan output untuk transkripsi teks\n",
        "model.add(layers.Dense(jumlah_kelas, activation='softmax'))\n",
        "\n",
        "# Kompilasi model\n",
        "model.compile(optimizer='adam', loss='categorical_crossentropy', metrics=['accuracy'])\n",
        "\n",
        "# Melatih model (pastikan untuk menyesuaikan data dan label sesuai)\n",
        "model.fit(train_data, train_labels_one_hot, epochs=10, validation_data=(val_data, val_labels_one_hot))"
      ],
      "metadata": {
        "id": "4RYqIes1dvY5"
      },
      "execution_count": null,
      "outputs": []
    }
  ]
}
